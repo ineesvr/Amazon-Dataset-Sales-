{
 "cells": [
  {
   "cell_type": "code",
   "execution_count": 88,
   "id": "a4deae20",
   "metadata": {},
   "outputs": [],
   "source": [
    "import numpy as np\n",
    "import pandas as pd\n",
    "import os\n",
    "import seaborn as sns\n",
    "import matplotlib.pyplot as plt\n",
    "import plotly.express as px"
   ]
  },
  {
   "cell_type": "code",
   "execution_count": 89,
   "id": "763419e1",
   "metadata": {},
   "outputs": [],
   "source": [
    "pd.set_option('display.max_columns', None)\n",
    "pd.set_option('display.width', None)\n",
    "pd.set_option('display.float_format', lambda x: '%.3f' % x)\n"
   ]
  },
  {
   "cell_type": "code",
   "execution_count": 90,
   "id": "06a4d06e",
   "metadata": {},
   "outputs": [],
   "source": [
    "\n",
    "df=pd.read_csv('/Users/Javier/Downloads/amazon-2.csv')\n"
   ]
  },
  {
   "cell_type": "code",
   "execution_count": 91,
   "id": "346bdfac",
   "metadata": {},
   "outputs": [
    {
     "data": {
      "text/html": [
       "<div>\n",
       "<style scoped>\n",
       "    .dataframe tbody tr th:only-of-type {\n",
       "        vertical-align: middle;\n",
       "    }\n",
       "\n",
       "    .dataframe tbody tr th {\n",
       "        vertical-align: top;\n",
       "    }\n",
       "\n",
       "    .dataframe thead th {\n",
       "        text-align: right;\n",
       "    }\n",
       "</style>\n",
       "<table border=\"1\" class=\"dataframe\">\n",
       "  <thead>\n",
       "    <tr style=\"text-align: right;\">\n",
       "      <th></th>\n",
       "      <th>product_id</th>\n",
       "      <th>product_name</th>\n",
       "      <th>category</th>\n",
       "      <th>discounted_price</th>\n",
       "      <th>actual_price</th>\n",
       "      <th>discount_percentage</th>\n",
       "      <th>rating</th>\n",
       "      <th>rating_count</th>\n",
       "      <th>about_product</th>\n",
       "      <th>user_id</th>\n",
       "      <th>user_name</th>\n",
       "      <th>review_id</th>\n",
       "      <th>review_title</th>\n",
       "      <th>review_content</th>\n",
       "      <th>img_link</th>\n",
       "      <th>product_link</th>\n",
       "    </tr>\n",
       "  </thead>\n",
       "  <tbody>\n",
       "    <tr>\n",
       "      <th>0</th>\n",
       "      <td>B07JW9H4J1</td>\n",
       "      <td>Wayona Nylon Braided USB to Lightning Fast Cha...</td>\n",
       "      <td>Computers&amp;Accessories|Accessories&amp;Peripherals|...</td>\n",
       "      <td>₹399</td>\n",
       "      <td>₹1,099</td>\n",
       "      <td>64%</td>\n",
       "      <td>4.2</td>\n",
       "      <td>24,269</td>\n",
       "      <td>High Compatibility : Compatible With iPhone 12...</td>\n",
       "      <td>AG3D6O4STAQKAY2UVGEUV46KN35Q,AHMY5CWJMMK5BJRBB...</td>\n",
       "      <td>Manav,Adarsh gupta,Sundeep,S.Sayeed Ahmed,jasp...</td>\n",
       "      <td>R3HXWT0LRP0NMF,R2AJM3LFTLZHFO,R6AQJGUP6P86,R1K...</td>\n",
       "      <td>Satisfied,Charging is really fast,Value for mo...</td>\n",
       "      <td>Looks durable Charging is fine tooNo complains...</td>\n",
       "      <td>https://m.media-amazon.com/images/W/WEBP_40237...</td>\n",
       "      <td>https://www.amazon.in/Wayona-Braided-WN3LG1-Sy...</td>\n",
       "    </tr>\n",
       "    <tr>\n",
       "      <th>1</th>\n",
       "      <td>B098NS6PVG</td>\n",
       "      <td>Ambrane Unbreakable 60W / 3A Fast Charging 1.5...</td>\n",
       "      <td>Computers&amp;Accessories|Accessories&amp;Peripherals|...</td>\n",
       "      <td>₹199</td>\n",
       "      <td>₹349</td>\n",
       "      <td>43%</td>\n",
       "      <td>4.0</td>\n",
       "      <td>43,994</td>\n",
       "      <td>Compatible with all Type C enabled devices, be...</td>\n",
       "      <td>AECPFYFQVRUWC3KGNLJIOREFP5LQ,AGYYVPDD7YG7FYNBX...</td>\n",
       "      <td>ArdKn,Nirbhay kumar,Sagar Viswanathan,Asp,Plac...</td>\n",
       "      <td>RGIQEG07R9HS2,R1SMWZQ86XIN8U,R2J3Y1WL29GWDE,RY...</td>\n",
       "      <td>A Good Braided Cable for Your Type C Device,Go...</td>\n",
       "      <td>I ordered this cable to connect my phone to An...</td>\n",
       "      <td>https://m.media-amazon.com/images/W/WEBP_40237...</td>\n",
       "      <td>https://www.amazon.in/Ambrane-Unbreakable-Char...</td>\n",
       "    </tr>\n",
       "    <tr>\n",
       "      <th>2</th>\n",
       "      <td>B096MSW6CT</td>\n",
       "      <td>Sounce Fast Phone Charging Cable &amp; Data Sync U...</td>\n",
       "      <td>Computers&amp;Accessories|Accessories&amp;Peripherals|...</td>\n",
       "      <td>₹199</td>\n",
       "      <td>₹1,899</td>\n",
       "      <td>90%</td>\n",
       "      <td>3.9</td>\n",
       "      <td>7,928</td>\n",
       "      <td>【 Fast Charger&amp; Data Sync】-With built-in safet...</td>\n",
       "      <td>AGU3BBQ2V2DDAMOAKGFAWDDQ6QHA,AESFLDV2PT363T2AQ...</td>\n",
       "      <td>Kunal,Himanshu,viswanath,sai niharka,saqib mal...</td>\n",
       "      <td>R3J3EQQ9TZI5ZJ,R3E7WBGK7ID0KV,RWU79XKQ6I1QF,R2...</td>\n",
       "      <td>Good speed for earlier versions,Good Product,W...</td>\n",
       "      <td>Not quite durable and sturdy,https://m.media-a...</td>\n",
       "      <td>https://m.media-amazon.com/images/W/WEBP_40237...</td>\n",
       "      <td>https://www.amazon.in/Sounce-iPhone-Charging-C...</td>\n",
       "    </tr>\n",
       "    <tr>\n",
       "      <th>3</th>\n",
       "      <td>B08HDJ86NZ</td>\n",
       "      <td>boAt Deuce USB 300 2 in 1 Type-C &amp; Micro USB S...</td>\n",
       "      <td>Computers&amp;Accessories|Accessories&amp;Peripherals|...</td>\n",
       "      <td>₹329</td>\n",
       "      <td>₹699</td>\n",
       "      <td>53%</td>\n",
       "      <td>4.2</td>\n",
       "      <td>94,363</td>\n",
       "      <td>The boAt Deuce USB 300 2 in 1 cable is compati...</td>\n",
       "      <td>AEWAZDZZJLQUYVOVGBEUKSLXHQ5A,AG5HTSFRRE6NL3M5S...</td>\n",
       "      <td>Omkar dhale,JD,HEMALATHA,Ajwadh a.,amar singh ...</td>\n",
       "      <td>R3EEUZKKK9J36I,R3HJVYCLYOY554,REDECAZ7AMPQC,R1...</td>\n",
       "      <td>Good product,Good one,Nice,Really nice product...</td>\n",
       "      <td>Good product,long wire,Charges good,Nice,I bou...</td>\n",
       "      <td>https://m.media-amazon.com/images/I/41V5FtEWPk...</td>\n",
       "      <td>https://www.amazon.in/Deuce-300-Resistant-Tang...</td>\n",
       "    </tr>\n",
       "    <tr>\n",
       "      <th>4</th>\n",
       "      <td>B08CF3B7N1</td>\n",
       "      <td>Portronics Konnect L 1.2M Fast Charging 3A 8 P...</td>\n",
       "      <td>Computers&amp;Accessories|Accessories&amp;Peripherals|...</td>\n",
       "      <td>₹154</td>\n",
       "      <td>₹399</td>\n",
       "      <td>61%</td>\n",
       "      <td>4.2</td>\n",
       "      <td>16,905</td>\n",
       "      <td>[CHARGE &amp; SYNC FUNCTION]- This cable comes wit...</td>\n",
       "      <td>AE3Q6KSUK5P75D5HFYHCRAOLODSA,AFUGIFH5ZAFXRDSZH...</td>\n",
       "      <td>rahuls6099,Swasat Borah,Ajay Wadke,Pranali,RVK...</td>\n",
       "      <td>R1BP4L2HH9TFUP,R16PVJEXKV6QZS,R2UPDB81N66T4P,R...</td>\n",
       "      <td>As good as original,Decent,Good one for second...</td>\n",
       "      <td>Bought this instead of original apple, does th...</td>\n",
       "      <td>https://m.media-amazon.com/images/W/WEBP_40237...</td>\n",
       "      <td>https://www.amazon.in/Portronics-Konnect-POR-1...</td>\n",
       "    </tr>\n",
       "  </tbody>\n",
       "</table>\n",
       "</div>"
      ],
      "text/plain": [
       "   product_id                                       product_name  \\\n",
       "0  B07JW9H4J1  Wayona Nylon Braided USB to Lightning Fast Cha...   \n",
       "1  B098NS6PVG  Ambrane Unbreakable 60W / 3A Fast Charging 1.5...   \n",
       "2  B096MSW6CT  Sounce Fast Phone Charging Cable & Data Sync U...   \n",
       "3  B08HDJ86NZ  boAt Deuce USB 300 2 in 1 Type-C & Micro USB S...   \n",
       "4  B08CF3B7N1  Portronics Konnect L 1.2M Fast Charging 3A 8 P...   \n",
       "\n",
       "                                            category discounted_price  \\\n",
       "0  Computers&Accessories|Accessories&Peripherals|...             ₹399   \n",
       "1  Computers&Accessories|Accessories&Peripherals|...             ₹199   \n",
       "2  Computers&Accessories|Accessories&Peripherals|...             ₹199   \n",
       "3  Computers&Accessories|Accessories&Peripherals|...             ₹329   \n",
       "4  Computers&Accessories|Accessories&Peripherals|...             ₹154   \n",
       "\n",
       "  actual_price discount_percentage rating rating_count  \\\n",
       "0       ₹1,099                 64%    4.2       24,269   \n",
       "1         ₹349                 43%    4.0       43,994   \n",
       "2       ₹1,899                 90%    3.9        7,928   \n",
       "3         ₹699                 53%    4.2       94,363   \n",
       "4         ₹399                 61%    4.2       16,905   \n",
       "\n",
       "                                       about_product  \\\n",
       "0  High Compatibility : Compatible With iPhone 12...   \n",
       "1  Compatible with all Type C enabled devices, be...   \n",
       "2  【 Fast Charger& Data Sync】-With built-in safet...   \n",
       "3  The boAt Deuce USB 300 2 in 1 cable is compati...   \n",
       "4  [CHARGE & SYNC FUNCTION]- This cable comes wit...   \n",
       "\n",
       "                                             user_id  \\\n",
       "0  AG3D6O4STAQKAY2UVGEUV46KN35Q,AHMY5CWJMMK5BJRBB...   \n",
       "1  AECPFYFQVRUWC3KGNLJIOREFP5LQ,AGYYVPDD7YG7FYNBX...   \n",
       "2  AGU3BBQ2V2DDAMOAKGFAWDDQ6QHA,AESFLDV2PT363T2AQ...   \n",
       "3  AEWAZDZZJLQUYVOVGBEUKSLXHQ5A,AG5HTSFRRE6NL3M5S...   \n",
       "4  AE3Q6KSUK5P75D5HFYHCRAOLODSA,AFUGIFH5ZAFXRDSZH...   \n",
       "\n",
       "                                           user_name  \\\n",
       "0  Manav,Adarsh gupta,Sundeep,S.Sayeed Ahmed,jasp...   \n",
       "1  ArdKn,Nirbhay kumar,Sagar Viswanathan,Asp,Plac...   \n",
       "2  Kunal,Himanshu,viswanath,sai niharka,saqib mal...   \n",
       "3  Omkar dhale,JD,HEMALATHA,Ajwadh a.,amar singh ...   \n",
       "4  rahuls6099,Swasat Borah,Ajay Wadke,Pranali,RVK...   \n",
       "\n",
       "                                           review_id  \\\n",
       "0  R3HXWT0LRP0NMF,R2AJM3LFTLZHFO,R6AQJGUP6P86,R1K...   \n",
       "1  RGIQEG07R9HS2,R1SMWZQ86XIN8U,R2J3Y1WL29GWDE,RY...   \n",
       "2  R3J3EQQ9TZI5ZJ,R3E7WBGK7ID0KV,RWU79XKQ6I1QF,R2...   \n",
       "3  R3EEUZKKK9J36I,R3HJVYCLYOY554,REDECAZ7AMPQC,R1...   \n",
       "4  R1BP4L2HH9TFUP,R16PVJEXKV6QZS,R2UPDB81N66T4P,R...   \n",
       "\n",
       "                                        review_title  \\\n",
       "0  Satisfied,Charging is really fast,Value for mo...   \n",
       "1  A Good Braided Cable for Your Type C Device,Go...   \n",
       "2  Good speed for earlier versions,Good Product,W...   \n",
       "3  Good product,Good one,Nice,Really nice product...   \n",
       "4  As good as original,Decent,Good one for second...   \n",
       "\n",
       "                                      review_content  \\\n",
       "0  Looks durable Charging is fine tooNo complains...   \n",
       "1  I ordered this cable to connect my phone to An...   \n",
       "2  Not quite durable and sturdy,https://m.media-a...   \n",
       "3  Good product,long wire,Charges good,Nice,I bou...   \n",
       "4  Bought this instead of original apple, does th...   \n",
       "\n",
       "                                            img_link  \\\n",
       "0  https://m.media-amazon.com/images/W/WEBP_40237...   \n",
       "1  https://m.media-amazon.com/images/W/WEBP_40237...   \n",
       "2  https://m.media-amazon.com/images/W/WEBP_40237...   \n",
       "3  https://m.media-amazon.com/images/I/41V5FtEWPk...   \n",
       "4  https://m.media-amazon.com/images/W/WEBP_40237...   \n",
       "\n",
       "                                        product_link  \n",
       "0  https://www.amazon.in/Wayona-Braided-WN3LG1-Sy...  \n",
       "1  https://www.amazon.in/Ambrane-Unbreakable-Char...  \n",
       "2  https://www.amazon.in/Sounce-iPhone-Charging-C...  \n",
       "3  https://www.amazon.in/Deuce-300-Resistant-Tang...  \n",
       "4  https://www.amazon.in/Portronics-Konnect-POR-1...  "
      ]
     },
     "execution_count": 91,
     "metadata": {},
     "output_type": "execute_result"
    }
   ],
   "source": [
    "df.head()"
   ]
  },
  {
   "cell_type": "code",
   "execution_count": 92,
   "id": "21ae34bd",
   "metadata": {},
   "outputs": [],
   "source": [
    "\n",
    "def check_df(dataframe):\n",
    "    print(\"##################### Shape #####################\")\n",
    "    print(dataframe.shape)\n",
    "    print(\"\\n##################### Columns #####################\")\n",
    "    print(dataframe.columns)\n",
    "    print(\"\\n##################### Info #####################\")\n",
    "    dataframe.info()\n",
    "    print(\"\\n##################### Types #####################\")\n",
    "    print(dataframe.dtypes)\n",
    "    print(\"\\n##################### Head #####################\")\n",
    "    print(dataframe.head())\n",
    "    print(\"\\n##################### Tail #####################\")\n",
    "    print(dataframe.tail())\n",
    "    print(\"\\n##################### Sum of NA #####################\")\n",
    "    print(dataframe.isnull().sum())"
   ]
  },
  {
   "cell_type": "code",
   "execution_count": 93,
   "id": "51face47",
   "metadata": {},
   "outputs": [
    {
     "name": "stdout",
     "output_type": "stream",
     "text": [
      "##################### Shape #####################\n",
      "(1465, 16)\n",
      "\n",
      "##################### Columns #####################\n",
      "Index(['product_id', 'product_name', 'category', 'discounted_price',\n",
      "       'actual_price', 'discount_percentage', 'rating', 'rating_count',\n",
      "       'about_product', 'user_id', 'user_name', 'review_id', 'review_title',\n",
      "       'review_content', 'img_link', 'product_link'],\n",
      "      dtype='object')\n",
      "\n",
      "##################### Info #####################\n",
      "<class 'pandas.core.frame.DataFrame'>\n",
      "RangeIndex: 1465 entries, 0 to 1464\n",
      "Data columns (total 16 columns):\n",
      " #   Column               Non-Null Count  Dtype \n",
      "---  ------               --------------  ----- \n",
      " 0   product_id           1465 non-null   object\n",
      " 1   product_name         1465 non-null   object\n",
      " 2   category             1465 non-null   object\n",
      " 3   discounted_price     1465 non-null   object\n",
      " 4   actual_price         1465 non-null   object\n",
      " 5   discount_percentage  1465 non-null   object\n",
      " 6   rating               1465 non-null   object\n",
      " 7   rating_count         1463 non-null   object\n",
      " 8   about_product        1465 non-null   object\n",
      " 9   user_id              1465 non-null   object\n",
      " 10  user_name            1465 non-null   object\n",
      " 11  review_id            1465 non-null   object\n",
      " 12  review_title         1465 non-null   object\n",
      " 13  review_content       1465 non-null   object\n",
      " 14  img_link             1465 non-null   object\n",
      " 15  product_link         1465 non-null   object\n",
      "dtypes: object(16)\n",
      "memory usage: 183.2+ KB\n",
      "\n",
      "##################### Types #####################\n",
      "product_id             object\n",
      "product_name           object\n",
      "category               object\n",
      "discounted_price       object\n",
      "actual_price           object\n",
      "discount_percentage    object\n",
      "rating                 object\n",
      "rating_count           object\n",
      "about_product          object\n",
      "user_id                object\n",
      "user_name              object\n",
      "review_id              object\n",
      "review_title           object\n",
      "review_content         object\n",
      "img_link               object\n",
      "product_link           object\n",
      "dtype: object\n",
      "\n",
      "##################### Head #####################\n",
      "   product_id                                       product_name  \\\n",
      "0  B07JW9H4J1  Wayona Nylon Braided USB to Lightning Fast Cha...   \n",
      "1  B098NS6PVG  Ambrane Unbreakable 60W / 3A Fast Charging 1.5...   \n",
      "2  B096MSW6CT  Sounce Fast Phone Charging Cable & Data Sync U...   \n",
      "3  B08HDJ86NZ  boAt Deuce USB 300 2 in 1 Type-C & Micro USB S...   \n",
      "4  B08CF3B7N1  Portronics Konnect L 1.2M Fast Charging 3A 8 P...   \n",
      "\n",
      "                                            category discounted_price  \\\n",
      "0  Computers&Accessories|Accessories&Peripherals|...             ₹399   \n",
      "1  Computers&Accessories|Accessories&Peripherals|...             ₹199   \n",
      "2  Computers&Accessories|Accessories&Peripherals|...             ₹199   \n",
      "3  Computers&Accessories|Accessories&Peripherals|...             ₹329   \n",
      "4  Computers&Accessories|Accessories&Peripherals|...             ₹154   \n",
      "\n",
      "  actual_price discount_percentage rating rating_count  \\\n",
      "0       ₹1,099                 64%    4.2       24,269   \n",
      "1         ₹349                 43%    4.0       43,994   \n",
      "2       ₹1,899                 90%    3.9        7,928   \n",
      "3         ₹699                 53%    4.2       94,363   \n",
      "4         ₹399                 61%    4.2       16,905   \n",
      "\n",
      "                                       about_product  \\\n",
      "0  High Compatibility : Compatible With iPhone 12...   \n",
      "1  Compatible with all Type C enabled devices, be...   \n",
      "2  【 Fast Charger& Data Sync】-With built-in safet...   \n",
      "3  The boAt Deuce USB 300 2 in 1 cable is compati...   \n",
      "4  [CHARGE & SYNC FUNCTION]- This cable comes wit...   \n",
      "\n",
      "                                             user_id  \\\n",
      "0  AG3D6O4STAQKAY2UVGEUV46KN35Q,AHMY5CWJMMK5BJRBB...   \n",
      "1  AECPFYFQVRUWC3KGNLJIOREFP5LQ,AGYYVPDD7YG7FYNBX...   \n",
      "2  AGU3BBQ2V2DDAMOAKGFAWDDQ6QHA,AESFLDV2PT363T2AQ...   \n",
      "3  AEWAZDZZJLQUYVOVGBEUKSLXHQ5A,AG5HTSFRRE6NL3M5S...   \n",
      "4  AE3Q6KSUK5P75D5HFYHCRAOLODSA,AFUGIFH5ZAFXRDSZH...   \n",
      "\n",
      "                                           user_name  \\\n",
      "0  Manav,Adarsh gupta,Sundeep,S.Sayeed Ahmed,jasp...   \n",
      "1  ArdKn,Nirbhay kumar,Sagar Viswanathan,Asp,Plac...   \n",
      "2  Kunal,Himanshu,viswanath,sai niharka,saqib mal...   \n",
      "3  Omkar dhale,JD,HEMALATHA,Ajwadh a.,amar singh ...   \n",
      "4  rahuls6099,Swasat Borah,Ajay Wadke,Pranali,RVK...   \n",
      "\n",
      "                                           review_id  \\\n",
      "0  R3HXWT0LRP0NMF,R2AJM3LFTLZHFO,R6AQJGUP6P86,R1K...   \n",
      "1  RGIQEG07R9HS2,R1SMWZQ86XIN8U,R2J3Y1WL29GWDE,RY...   \n",
      "2  R3J3EQQ9TZI5ZJ,R3E7WBGK7ID0KV,RWU79XKQ6I1QF,R2...   \n",
      "3  R3EEUZKKK9J36I,R3HJVYCLYOY554,REDECAZ7AMPQC,R1...   \n",
      "4  R1BP4L2HH9TFUP,R16PVJEXKV6QZS,R2UPDB81N66T4P,R...   \n",
      "\n",
      "                                        review_title  \\\n",
      "0  Satisfied,Charging is really fast,Value for mo...   \n",
      "1  A Good Braided Cable for Your Type C Device,Go...   \n",
      "2  Good speed for earlier versions,Good Product,W...   \n",
      "3  Good product,Good one,Nice,Really nice product...   \n",
      "4  As good as original,Decent,Good one for second...   \n",
      "\n",
      "                                      review_content  \\\n",
      "0  Looks durable Charging is fine tooNo complains...   \n",
      "1  I ordered this cable to connect my phone to An...   \n",
      "2  Not quite durable and sturdy,https://m.media-a...   \n",
      "3  Good product,long wire,Charges good,Nice,I bou...   \n",
      "4  Bought this instead of original apple, does th...   \n",
      "\n",
      "                                            img_link  \\\n",
      "0  https://m.media-amazon.com/images/W/WEBP_40237...   \n",
      "1  https://m.media-amazon.com/images/W/WEBP_40237...   \n",
      "2  https://m.media-amazon.com/images/W/WEBP_40237...   \n",
      "3  https://m.media-amazon.com/images/I/41V5FtEWPk...   \n",
      "4  https://m.media-amazon.com/images/W/WEBP_40237...   \n",
      "\n",
      "                                        product_link  \n",
      "0  https://www.amazon.in/Wayona-Braided-WN3LG1-Sy...  \n",
      "1  https://www.amazon.in/Ambrane-Unbreakable-Char...  \n",
      "2  https://www.amazon.in/Sounce-iPhone-Charging-C...  \n",
      "3  https://www.amazon.in/Deuce-300-Resistant-Tang...  \n",
      "4  https://www.amazon.in/Portronics-Konnect-POR-1...  \n",
      "\n",
      "##################### Tail #####################\n",
      "      product_id                                       product_name  \\\n",
      "1460  B08L7J3T31  Noir Aqua - 5pcs PP Spun Filter + 1 Spanner | ...   \n",
      "1461  B01M6453MB  Prestige Delight PRWO Electric Rice Cooker (1 ...   \n",
      "1462  B009P2LIL4  Bajaj Majesty RX10 2000 Watts Heat Convector R...   \n",
      "1463  B00J5DYCCA  Havells Ventil Air DSP 230mm Exhaust Fan (Pist...   \n",
      "1464  B01486F4G6  Borosil Jumbo 1000-Watt Grill Sandwich Maker (...   \n",
      "\n",
      "                                               category discounted_price  \\\n",
      "1460  Home&Kitchen|Kitchen&HomeAppliances|WaterPurif...             ₹379   \n",
      "1461  Home&Kitchen|Kitchen&HomeAppliances|SmallKitch...           ₹2,280   \n",
      "1462  Home&Kitchen|Heating,Cooling&AirQuality|RoomHe...           ₹2,219   \n",
      "1463  Home&Kitchen|Heating,Cooling&AirQuality|Fans|E...           ₹1,399   \n",
      "1464  Home&Kitchen|Kitchen&HomeAppliances|SmallKitch...           ₹2,863   \n",
      "\n",
      "     actual_price discount_percentage rating rating_count  \\\n",
      "1460         ₹919                 59%      4        1,090   \n",
      "1461       ₹3,045                 25%    4.1        4,118   \n",
      "1462       ₹3,080                 28%    3.6          468   \n",
      "1463       ₹1,890                 26%      4        8,031   \n",
      "1464       ₹3,690                 22%    4.3        6,987   \n",
      "\n",
      "                                          about_product  \\\n",
      "1460  SUPREME QUALITY 90 GRAM 3 LAYER THIK PP SPUN F...   \n",
      "1461                       230 Volts, 400 watts, 1 Year   \n",
      "1462  International design and styling|Two heat sett...   \n",
      "1463  Fan sweep area: 230 MM ; Noise level: (40 - 45...   \n",
      "1464  Brand-Borosil, Specification â€“ 23V ~ 5Hz;1 W...   \n",
      "\n",
      "                                                user_id  \\\n",
      "1460  AHITFY6AHALOFOHOZEOC6XBP4FEA,AFRABBODZJZQB6Z4U...   \n",
      "1461  AFG5FM3NEMOL6BNFRV2NK5FNJCHQ,AGEINTRN6Z563RMLH...   \n",
      "1462  AGVPWCMAHYQWJOQKMUJN4DW3KM5Q,AF4Q3E66MY4SR7YQZ...   \n",
      "1463  AF2JQCLSCY3QJATWUNNHUSVUPNQQ,AFDMLUXC5LS5RXDJS...   \n",
      "1464  AFGW5PT3R6ZAVQR4Y5MWVAKBZAYA,AG7QNJ2SCS5VS5VYY...   \n",
      "\n",
      "                                              user_name  \\\n",
      "1460  Prabha ds,Raghuram bk,Real Deal,Amazon Custome...   \n",
      "1461  Manu Bhai,Naveenpittu,Evatira Sangma,JAGANNADH...   \n",
      "1462  Nehal Desai,Danish Parwez,Amazon Customer,Amaz...   \n",
      "1463  Shubham Dubey,E.GURUBARAN,Mayank S.,eusuf khan...   \n",
      "1464  Rajib,Ajay B,Vikas Kahol,PARDEEP,Anindya Prama...   \n",
      "\n",
      "                                              review_id  \\\n",
      "1460  R3G3XFHPBFF0E8,R3C0BZCD32EIGW,R2EBVBCN9QPD9R,R...   \n",
      "1461  R3DDL2UPKQ2CK9,R2SYYU1OATVIU5,R1VM993161IYRW,R...   \n",
      "1462  R1TLRJVW4STY5I,R2O455KRN493R1,R3Q5MVGBRIAS2G,R...   \n",
      "1463  R39Q2Y79MM9SWK,R3079BG1NIH6MB,R29A31ZELTZNJM,R...   \n",
      "1464  R20RBRZ0WEUJT9,ROKIFK9R2ISSE,R30EEG2FNJSN5I,R2...   \n",
      "\n",
      "                                           review_title  \\\n",
      "1460  Received the product without spanner,Excellent...   \n",
      "1461  ok,everything was good couldn't return bcoz I ...   \n",
      "1462  very good,Work but front melt after 2 month,Go...   \n",
      "1463  Fan Speed is slow,Good quality,Good product,go...   \n",
      "1464  Works perfect,Ok good product,Nice Product. Re...   \n",
      "\n",
      "                                         review_content  \\\n",
      "1460  I received product without spanner,Excellent p...   \n",
      "1461  ok,got everything as mentioned but the measuri...   \n",
      "1462  plastic but cool body ,u have to find sturdy s...   \n",
      "1463  I have installed this in my kitchen working fi...   \n",
      "1464  It does it job perfectly..only issue is temp c...   \n",
      "\n",
      "                                               img_link  \\\n",
      "1460  https://m.media-amazon.com/images/I/41fDdRtjfx...   \n",
      "1461  https://m.media-amazon.com/images/I/41gzDxk4+k...   \n",
      "1462  https://m.media-amazon.com/images/W/WEBP_40237...   \n",
      "1463  https://m.media-amazon.com/images/W/WEBP_40237...   \n",
      "1464  https://m.media-amazon.com/images/W/WEBP_40237...   \n",
      "\n",
      "                                           product_link  \n",
      "1460  https://www.amazon.in/Noir-Aqua-Spanner-Purifi...  \n",
      "1461  https://www.amazon.in/Prestige-Delight-PRWO-1-...  \n",
      "1462  https://www.amazon.in/Bajaj-RX-10-2000-Watt-Co...  \n",
      "1463  https://www.amazon.in/Havells-Ventilair-230mm-...  \n",
      "1464  https://www.amazon.in/Borosil-Jumbo-1000-Watt-...  \n",
      "\n",
      "##################### Sum of NA #####################\n",
      "product_id             0\n",
      "product_name           0\n",
      "category               0\n",
      "discounted_price       0\n",
      "actual_price           0\n",
      "discount_percentage    0\n",
      "rating                 0\n",
      "rating_count           2\n",
      "about_product          0\n",
      "user_id                0\n",
      "user_name              0\n",
      "review_id              0\n",
      "review_title           0\n",
      "review_content         0\n",
      "img_link               0\n",
      "product_link           0\n",
      "dtype: int64\n"
     ]
    }
   ],
   "source": [
    "check_df(df)"
   ]
  },
  {
   "cell_type": "code",
   "execution_count": 94,
   "id": "0e38a80d",
   "metadata": {},
   "outputs": [
    {
     "data": {
      "text/html": [
       "<div>\n",
       "<style scoped>\n",
       "    .dataframe tbody tr th:only-of-type {\n",
       "        vertical-align: middle;\n",
       "    }\n",
       "\n",
       "    .dataframe tbody tr th {\n",
       "        vertical-align: top;\n",
       "    }\n",
       "\n",
       "    .dataframe thead th {\n",
       "        text-align: right;\n",
       "    }\n",
       "</style>\n",
       "<table border=\"1\" class=\"dataframe\">\n",
       "  <thead>\n",
       "    <tr style=\"text-align: right;\">\n",
       "      <th></th>\n",
       "      <th>count</th>\n",
       "      <th>unique</th>\n",
       "      <th>top</th>\n",
       "      <th>freq</th>\n",
       "    </tr>\n",
       "  </thead>\n",
       "  <tbody>\n",
       "    <tr>\n",
       "      <th>product_id</th>\n",
       "      <td>1465</td>\n",
       "      <td>1351</td>\n",
       "      <td>B07JW9H4J1</td>\n",
       "      <td>3</td>\n",
       "    </tr>\n",
       "    <tr>\n",
       "      <th>product_name</th>\n",
       "      <td>1465</td>\n",
       "      <td>1337</td>\n",
       "      <td>Fire-Boltt Ninja Call Pro Plus 1.83\" Smart Wat...</td>\n",
       "      <td>5</td>\n",
       "    </tr>\n",
       "    <tr>\n",
       "      <th>category</th>\n",
       "      <td>1465</td>\n",
       "      <td>211</td>\n",
       "      <td>Computers&amp;Accessories|Accessories&amp;Peripherals|...</td>\n",
       "      <td>233</td>\n",
       "    </tr>\n",
       "    <tr>\n",
       "      <th>discounted_price</th>\n",
       "      <td>1465</td>\n",
       "      <td>550</td>\n",
       "      <td>₹199</td>\n",
       "      <td>53</td>\n",
       "    </tr>\n",
       "    <tr>\n",
       "      <th>actual_price</th>\n",
       "      <td>1465</td>\n",
       "      <td>449</td>\n",
       "      <td>₹999</td>\n",
       "      <td>120</td>\n",
       "    </tr>\n",
       "    <tr>\n",
       "      <th>discount_percentage</th>\n",
       "      <td>1465</td>\n",
       "      <td>92</td>\n",
       "      <td>50%</td>\n",
       "      <td>56</td>\n",
       "    </tr>\n",
       "    <tr>\n",
       "      <th>rating</th>\n",
       "      <td>1465</td>\n",
       "      <td>28</td>\n",
       "      <td>4.1</td>\n",
       "      <td>244</td>\n",
       "    </tr>\n",
       "    <tr>\n",
       "      <th>rating_count</th>\n",
       "      <td>1463</td>\n",
       "      <td>1143</td>\n",
       "      <td>9,378</td>\n",
       "      <td>9</td>\n",
       "    </tr>\n",
       "    <tr>\n",
       "      <th>about_product</th>\n",
       "      <td>1465</td>\n",
       "      <td>1293</td>\n",
       "      <td>[CHARGE &amp; SYNC FUNCTION]- This cable comes wit...</td>\n",
       "      <td>6</td>\n",
       "    </tr>\n",
       "    <tr>\n",
       "      <th>user_id</th>\n",
       "      <td>1465</td>\n",
       "      <td>1194</td>\n",
       "      <td>AHIKJUDTVJ4T6DV6IUGFYZ5LXMPA,AE55KTFVNXYFD5FPY...</td>\n",
       "      <td>10</td>\n",
       "    </tr>\n",
       "    <tr>\n",
       "      <th>user_name</th>\n",
       "      <td>1465</td>\n",
       "      <td>1194</td>\n",
       "      <td>$@|\\|TO$|-|,Sethu madhav,Akash Thakur,Burger P...</td>\n",
       "      <td>10</td>\n",
       "    </tr>\n",
       "    <tr>\n",
       "      <th>review_id</th>\n",
       "      <td>1465</td>\n",
       "      <td>1194</td>\n",
       "      <td>R3F4T5TRYPTMIG,R3DQIEC603E7AY,R1O4Z15FD40PV5,R...</td>\n",
       "      <td>10</td>\n",
       "    </tr>\n",
       "    <tr>\n",
       "      <th>review_title</th>\n",
       "      <td>1465</td>\n",
       "      <td>1194</td>\n",
       "      <td>Worked on iPhone 7 and didn’t work on XR,Good ...</td>\n",
       "      <td>10</td>\n",
       "    </tr>\n",
       "    <tr>\n",
       "      <th>review_content</th>\n",
       "      <td>1465</td>\n",
       "      <td>1212</td>\n",
       "      <td>I am not big on camera usage, personally. I wa...</td>\n",
       "      <td>8</td>\n",
       "    </tr>\n",
       "    <tr>\n",
       "      <th>img_link</th>\n",
       "      <td>1465</td>\n",
       "      <td>1412</td>\n",
       "      <td>https://m.media-amazon.com/images/I/413sCRKobN...</td>\n",
       "      <td>3</td>\n",
       "    </tr>\n",
       "    <tr>\n",
       "      <th>product_link</th>\n",
       "      <td>1465</td>\n",
       "      <td>1465</td>\n",
       "      <td>https://www.amazon.in/Wayona-Braided-WN3LG1-Sy...</td>\n",
       "      <td>1</td>\n",
       "    </tr>\n",
       "  </tbody>\n",
       "</table>\n",
       "</div>"
      ],
      "text/plain": [
       "                    count unique  \\\n",
       "product_id           1465   1351   \n",
       "product_name         1465   1337   \n",
       "category             1465    211   \n",
       "discounted_price     1465    550   \n",
       "actual_price         1465    449   \n",
       "discount_percentage  1465     92   \n",
       "rating               1465     28   \n",
       "rating_count         1463   1143   \n",
       "about_product        1465   1293   \n",
       "user_id              1465   1194   \n",
       "user_name            1465   1194   \n",
       "review_id            1465   1194   \n",
       "review_title         1465   1194   \n",
       "review_content       1465   1212   \n",
       "img_link             1465   1412   \n",
       "product_link         1465   1465   \n",
       "\n",
       "                                                                   top freq  \n",
       "product_id                                                  B07JW9H4J1    3  \n",
       "product_name         Fire-Boltt Ninja Call Pro Plus 1.83\" Smart Wat...    5  \n",
       "category             Computers&Accessories|Accessories&Peripherals|...  233  \n",
       "discounted_price                                                  ₹199   53  \n",
       "actual_price                                                      ₹999  120  \n",
       "discount_percentage                                                50%   56  \n",
       "rating                                                             4.1  244  \n",
       "rating_count                                                     9,378    9  \n",
       "about_product        [CHARGE & SYNC FUNCTION]- This cable comes wit...    6  \n",
       "user_id              AHIKJUDTVJ4T6DV6IUGFYZ5LXMPA,AE55KTFVNXYFD5FPY...   10  \n",
       "user_name            $@|\\|TO$|-|,Sethu madhav,Akash Thakur,Burger P...   10  \n",
       "review_id            R3F4T5TRYPTMIG,R3DQIEC603E7AY,R1O4Z15FD40PV5,R...   10  \n",
       "review_title         Worked on iPhone 7 and didn’t work on XR,Good ...   10  \n",
       "review_content       I am not big on camera usage, personally. I wa...    8  \n",
       "img_link             https://m.media-amazon.com/images/I/413sCRKobN...    3  \n",
       "product_link         https://www.amazon.in/Wayona-Braided-WN3LG1-Sy...    1  "
      ]
     },
     "execution_count": 94,
     "metadata": {},
     "output_type": "execute_result"
    }
   ],
   "source": [
    "df.describe().T"
   ]
  },
  {
   "cell_type": "code",
   "execution_count": 95,
   "id": "e0979b2a",
   "metadata": {},
   "outputs": [
    {
     "name": "stdout",
     "output_type": "stream",
     "text": [
      "<class 'pandas.core.frame.DataFrame'>\n",
      "RangeIndex: 1465 entries, 0 to 1464\n",
      "Data columns (total 16 columns):\n",
      " #   Column               Non-Null Count  Dtype \n",
      "---  ------               --------------  ----- \n",
      " 0   product_id           1465 non-null   object\n",
      " 1   product_name         1465 non-null   object\n",
      " 2   category             1465 non-null   object\n",
      " 3   discounted_price     1465 non-null   object\n",
      " 4   actual_price         1465 non-null   object\n",
      " 5   discount_percentage  1465 non-null   object\n",
      " 6   rating               1465 non-null   object\n",
      " 7   rating_count         1463 non-null   object\n",
      " 8   about_product        1465 non-null   object\n",
      " 9   user_id              1465 non-null   object\n",
      " 10  user_name            1465 non-null   object\n",
      " 11  review_id            1465 non-null   object\n",
      " 12  review_title         1465 non-null   object\n",
      " 13  review_content       1465 non-null   object\n",
      " 14  img_link             1465 non-null   object\n",
      " 15  product_link         1465 non-null   object\n",
      "dtypes: object(16)\n",
      "memory usage: 183.2+ KB\n"
     ]
    }
   ],
   "source": [
    "df.info()"
   ]
  },
  {
   "cell_type": "code",
   "execution_count": 96,
   "id": "65b805a2",
   "metadata": {},
   "outputs": [],
   "source": [
    "def column_detection(dataframe: pd.DataFrame, cat_th: int = 10, car_th: int = 20): # cat_th/car_th:categorical/cardinal threshold\n",
    "\n",
    "    # If dtypes equal \"0\" then the column is categorical\n",
    "    cat_cols = [col for col in dataframe.columns if dataframe[col].dtypes == \"O\"]\n",
    "\n",
    "    # If unique values of the columns is lower than 10 and dtypes doesn't equal 0 then the column is categorical\n",
    "    num_but_cat = [col for col in dataframe.columns if dataframe[col].nunique() < cat_th and\n",
    "                       dataframe[col].dtypes != \"O\"]\n",
    "\n",
    "    # If unique values ofthe column is greaer than 20 and dtypes equals \"0\" then the column is cardinal\n",
    "    cat_but_car = [col for col in dataframe.columns if dataframe[col].nunique() > car_th and\n",
    "                    dataframe[col].dtypes == \"O\"]\n",
    "\n",
    "    # So, categorical columns is sum of belows\n",
    "    cat_cols = cat_cols + num_but_cat\n",
    "    cat_cols = [col for col in cat_cols if col not in cat_but_car]\n",
    "\n",
    "    # num_cols\n",
    "    num_cols = [col for col in dataframe.columns if dataframe[col].dtypes != \"O\"]\n",
    "    num_cols = [col for col in num_cols if col not in num_but_cat]\n",
    "\n",
    "    print(\"\\n##################### Categoric #####################\")\n",
    "    print(cat_cols)\n",
    "    print(\"\\n##################### Numeric #####################\")\n",
    "    print(num_cols)\n",
    "    print(\"\\n##################### Categoric But Cardinal #####################\")\n",
    "    print(cat_but_car)\n",
    "    print(\"\\n##################### Numeric But Categoric #####################\")\n",
    "    print(num_but_cat)\n",
    "    print(\"\\n##################### Columns Overview #####################\")\n",
    "    print(f\"Observations: {dataframe.shape[0]}\")\n",
    "    print(f\"Variables: {dataframe.shape[1]}\")\n",
    "    print(f'cat_cols: {len(cat_cols)}')\n",
    "    print(f'num_cols: {len(num_cols)}')\n",
    "    print(f'cat_but_car: {len(cat_but_car)}')\n",
    "    print(f'num_but_cat: {len(num_but_cat)}')\n",
    "\n",
    "    return cat_cols, num_cols, cat_but_car, num_but_cat"
   ]
  },
  {
   "cell_type": "code",
   "execution_count": 97,
   "id": "2c35dfa6",
   "metadata": {},
   "outputs": [
    {
     "name": "stdout",
     "output_type": "stream",
     "text": [
      "\n",
      "##################### Categoric #####################\n",
      "[]\n",
      "\n",
      "##################### Numeric #####################\n",
      "[]\n",
      "\n",
      "##################### Categoric But Cardinal #####################\n",
      "['product_id', 'product_name', 'category', 'discounted_price', 'actual_price', 'discount_percentage', 'rating', 'rating_count', 'about_product', 'user_id', 'user_name', 'review_id', 'review_title', 'review_content', 'img_link', 'product_link']\n",
      "\n",
      "##################### Numeric But Categoric #####################\n",
      "[]\n",
      "\n",
      "##################### Columns Overview #####################\n",
      "Observations: 1465\n",
      "Variables: 16\n",
      "cat_cols: 0\n",
      "num_cols: 0\n",
      "cat_but_car: 16\n",
      "num_but_cat: 0\n"
     ]
    }
   ],
   "source": [
    "cat_cols, num_cols, cat_but_car, num_but_cat = column_detection(df)"
   ]
  },
  {
   "cell_type": "code",
   "execution_count": 98,
   "id": "bedb3e54",
   "metadata": {},
   "outputs": [],
   "source": [
    "df.drop_duplicates(inplace=True)"
   ]
  },
  {
   "cell_type": "code",
   "execution_count": 99,
   "id": "965586fe-aa42-4ee8-857f-a0b12889ed33",
   "metadata": {},
   "outputs": [],
   "source": [
    "import plotly.graph_objects as go"
   ]
  },
  {
   "cell_type": "code",
   "execution_count": 100,
   "id": "bc4f9259-150a-45e2-bb38-f52d45b8f0ac",
   "metadata": {},
   "outputs": [
    {
     "data": {
      "application/vnd.plotly.v1+json": {
       "config": {
        "plotlyServerURL": "https://plot.ly"
       },
       "data": [
        {
         "alignmentgroup": "True",
         "bingroup": "x",
         "hovertemplate": "review_length=%{x}<br>count=%{y}<extra></extra>",
         "legendgroup": "",
         "marker": {
          "color": "#636efa",
          "pattern": {
           "shape": ""
          }
         },
         "name": "",
         "offsetgroup": "",
         "orientation": "v",
         "showlegend": false,
         "type": "histogram",
         "x": [
          483,
          1186,
          271,
          443,
          2451,
          250,
          594,
          758,
          3989,
          1186,
          876,
          443,
          901,
          766,
          694,
          439,
          759,
          1186,
          839,
          434,
          600,
          839,
          549,
          505,
          4919,
          1181,
          3945,
          943,
          555,
          836,
          1254,
          1092,
          546,
          555,
          468,
          274,
          1086,
          915,
          4937,
          1066,
          569,
          13253,
          483,
          964,
          505,
          533,
          483,
          901,
          936,
          8642,
          3226,
          8642,
          1141,
          2206,
          613,
          336,
          3989,
          3945,
          624,
          513,
          457,
          4728,
          1326,
          639,
          1188,
          901,
          1046,
          1578,
          464,
          668,
          1508,
          481,
          1188,
          770,
          2466,
          1385,
          317,
          675,
          325,
          984,
          483,
          529,
          604,
          549,
          905,
          4937,
          4919,
          4728,
          914,
          459,
          502,
          3945,
          443,
          492,
          2707,
          426,
          706,
          509,
          1995,
          538,
          313,
          461,
          943,
          783,
          916,
          699,
          483,
          925,
          2546,
          274,
          757,
          836,
          2012,
          2466,
          238,
          1229,
          557,
          688,
          1326,
          668,
          545,
          409,
          667,
          3550,
          1188,
          1051,
          1632,
          486,
          1411,
          520,
          4919,
          699,
          1089,
          475,
          280,
          1462,
          468,
          359,
          660,
          836,
          1059,
          3226,
          1136,
          3989,
          3385,
          289,
          802,
          1294,
          702,
          1118,
          1594,
          546,
          549,
          758,
          3909,
          67,
          545,
          9521,
          575,
          373,
          1446,
          2863,
          770,
          274,
          1178,
          667,
          916,
          406,
          2274,
          474,
          1465,
          4919,
          317,
          1208,
          208,
          561,
          529,
          1059,
          505,
          1090,
          333,
          492,
          765,
          1086,
          753,
          414,
          1086,
          699,
          1146,
          702,
          2230,
          320,
          4728,
          288,
          629,
          440,
          505,
          783,
          771,
          265,
          574,
          364,
          723,
          1131,
          199,
          1261,
          308,
          6876,
          710,
          554,
          707,
          740,
          1254,
          1568,
          387,
          178,
          3228,
          377,
          409,
          681,
          459,
          578,
          1305,
          2373,
          1536,
          443,
          628,
          364,
          174,
          572,
          1726,
          1188,
          1255,
          289,
          440,
          725,
          1089,
          1643,
          660,
          2071,
          317,
          2863,
          928,
          546,
          555,
          549,
          468,
          639,
          571,
          3411,
          892,
          474,
          947,
          529,
          462,
          2546,
          697,
          1208,
          443,
          869,
          1423,
          905,
          771,
          523,
          1533,
          4919,
          276,
          492,
          3365,
          572,
          2274,
          541,
          538,
          252,
          525,
          381,
          4728,
          295,
          783,
          657,
          972,
          359,
          446,
          1462,
          458,
          492,
          914,
          437,
          906,
          753,
          1304,
          566,
          902,
          212,
          1742,
          410,
          546,
          682,
          583,
          274,
          493,
          1181,
          166,
          431,
          432,
          581,
          414,
          395,
          1003,
          845,
          759,
          1464,
          1147,
          710,
          526,
          844,
          638,
          709,
          486,
          417,
          1512,
          5146,
          591,
          286,
          86,
          3228,
          2607,
          414,
          526,
          852,
          303,
          352,
          1155,
          192,
          2959,
          4327,
          2780,
          1610,
          1159,
          5819,
          5819,
          1159,
          1159,
          335,
          1578,
          1019,
          443,
          1076,
          2744,
          938,
          161,
          441,
          801,
          335,
          2744,
          1121,
          1610,
          1259,
          1121,
          655,
          1258,
          10220,
          335,
          2971,
          2959,
          1846,
          10220,
          669,
          2959,
          459,
          1007,
          1007,
          2959,
          161,
          548,
          5245,
          840,
          1186,
          1041,
          223,
          2959,
          161,
          555,
          4746,
          1754,
          4327,
          461,
          3357,
          1130,
          557,
          655,
          2780,
          443,
          2451,
          8718,
          800,
          936,
          1090,
          391,
          2971,
          801,
          1041,
          1755,
          250,
          1230,
          4194,
          5819,
          578,
          3446,
          2971,
          5220,
          10220,
          363,
          1121,
          1019,
          873,
          1090,
          7210,
          594,
          2971,
          11925,
          2780,
          758,
          1186,
          1077,
          2971,
          500,
          9561,
          876,
          3357,
          851,
          464,
          858,
          281,
          1041,
          1041,
          3357,
          926,
          317,
          391,
          1610,
          1019,
          1041,
          443,
          1121,
          2971,
          461,
          2182,
          668,
          1019,
          1495,
          380,
          882,
          669,
          766,
          481,
          694,
          443,
          2780,
          1649,
          1804,
          1116,
          1432,
          375,
          415,
          669,
          661,
          600,
          2038,
          2744,
          1186,
          818,
          883,
          1007,
          1847,
          902,
          447,
          281,
          505,
          1076,
          1015,
          2971,
          1015,
          548,
          1846,
          908,
          505,
          702,
          770,
          1041,
          780,
          823,
          375,
          1130,
          420,
          1124,
          443,
          1495,
          5470,
          2126,
          1495,
          9561,
          1429,
          836,
          555,
          711,
          375,
          335,
          4327,
          9561,
          190,
          2126,
          426,
          1575,
          250,
          269,
          481,
          1258,
          1086,
          452,
          1208,
          908,
          756,
          661,
          285,
          1432,
          707,
          1863,
          1941,
          213,
          433,
          2889,
          2126,
          6447,
          898,
          1609,
          9643,
          335,
          473,
          7414,
          1141,
          3508,
          461,
          6270,
          5722,
          522,
          548,
          402,
          1191,
          477,
          626,
          420,
          1579,
          1002,
          9561,
          987,
          851,
          750,
          346,
          1258,
          211,
          1927,
          668,
          948,
          770,
          452,
          1007,
          1091,
          10073,
          1385,
          317,
          1074,
          436,
          658,
          5245,
          124,
          1138,
          1396,
          661,
          2436,
          447,
          2971,
          507,
          1741,
          801,
          5430,
          4327,
          2780,
          195,
          4799,
          863,
          2936,
          1271,
          335,
          1578,
          3545,
          448,
          1016,
          1076,
          975,
          638,
          2077,
          725,
          441,
          4894,
          680,
          1208,
          658,
          1258,
          2622,
          645,
          1915,
          916,
          6649,
          483,
          331,
          312,
          308,
          5668,
          5245,
          592,
          1318,
          1186,
          271,
          863,
          188,
          967,
          838,
          443,
          1139,
          954,
          642,
          2451,
          1173,
          800,
          936,
          8145,
          482,
          1439,
          926,
          1751,
          1116,
          250,
          384,
          578,
          595,
          529,
          1727,
          872,
          5992,
          215,
          1276,
          896,
          700,
          438,
          998,
          14699,
          7210,
          594,
          252,
          571,
          920,
          3719,
          2092,
          2976,
          7149,
          298,
          855,
          758,
          610,
          555,
          996,
          548,
          876,
          261,
          1405,
          3275,
          11925,
          739,
          990,
          3866,
          314,
          704,
          1111,
          901,
          2112,
          281,
          830,
          1420,
          766,
          3623,
          11090,
          694,
          1572,
          675,
          430,
          404,
          3154,
          1831,
          415,
          600,
          1197,
          740,
          400,
          1847,
          2333,
          1778,
          549,
          655,
          987,
          367,
          566,
          4075,
          1804,
          434,
          603,
          2059,
          637,
          13239,
          1913,
          1096,
          1060,
          839,
          549,
          635,
          823,
          694,
          505,
          722,
          734,
          1501,
          1181,
          667,
          1601,
          1730,
          908,
          555,
          991,
          455,
          342,
          1015,
          1032,
          875,
          900,
          1009,
          190,
          2196,
          2341,
          610,
          1385,
          167,
          1749,
          1636,
          636,
          635,
          697,
          4404,
          451,
          667,
          2625,
          8871,
          1375,
          399,
          1036,
          765,
          532,
          1148,
          1605,
          943,
          239,
          834,
          836,
          798,
          1546,
          285,
          1399,
          2955,
          10639,
          544,
          338,
          754,
          1357,
          603,
          352,
          555,
          5575,
          1046,
          855,
          616,
          1019,
          557,
          1137,
          2124,
          2955,
          2090,
          2848,
          449,
          1660,
          826,
          666,
          3588,
          771,
          1254,
          282,
          4949,
          480,
          680,
          435,
          587,
          1505,
          2197,
          314,
          2060,
          910,
          860,
          455,
          558,
          839,
          1092,
          970,
          721,
          578,
          3006,
          546,
          1479,
          306,
          409,
          1186,
          915,
          393,
          5580,
          694,
          344,
          531,
          822,
          985,
          468,
          559,
          1253,
          1086,
          915,
          467,
          1161,
          2475,
          775,
          1109,
          1033,
          1055,
          1238,
          965,
          351,
          1066,
          569,
          1130,
          261,
          668,
          1841,
          533,
          497,
          1033,
          1201,
          211,
          362,
          1124,
          913,
          574,
          517,
          2725,
          806,
          964,
          440,
          543,
          317,
          3248,
          889,
          830,
          962,
          1305,
          610,
          5792,
          1830,
          483,
          1171,
          3496,
          445,
          8642,
          1198,
          249,
          7414,
          1628,
          737,
          1060,
          908,
          612,
          3226,
          408,
          855,
          2139,
          1141,
          1170,
          1682,
          420,
          1966,
          539,
          335,
          1273,
          783,
          2528,
          613,
          997,
          1609,
          2328,
          478,
          695,
          3628,
          444,
          4004,
          1554,
          9643,
          623,
          855,
          1191,
          3327,
          1092,
          1001,
          624,
          3508,
          897,
          513,
          1738,
          10766,
          391,
          677,
          944,
          293,
          1565,
          430,
          1995,
          1326,
          2833,
          1175,
          789,
          2453,
          639,
          699,
          5925,
          1593,
          582,
          1629,
          687,
          177,
          1398,
          235,
          1188,
          789,
          219,
          5780,
          481,
          1420,
          851,
          688,
          840,
          1603,
          1214,
          2093,
          824,
          5945,
          2895,
          1046,
          3573,
          715,
          751,
          1890,
          1743,
          668,
          445,
          11410,
          9871,
          536,
          1532,
          222,
          977,
          1617,
          770,
          693,
          2466,
          560,
          184,
          754,
          428,
          1385,
          487,
          317,
          1761,
          1227,
          1708,
          703,
          356,
          2513,
          1562,
          325,
          2097,
          382,
          1588,
          508,
          9745,
          843,
          1074,
          5439,
          2295,
          905,
          396,
          742,
          843,
          1716,
          1651,
          2375,
          1741,
          914,
          502,
          1048,
          462,
          3811,
          342,
          320,
          921,
          428,
          432,
          699,
          1129,
          247,
          396,
          1033,
          1053,
          3028,
          783,
          660,
          767,
          676,
          1700,
          1336,
          925,
          739,
          703,
          896,
          408,
          519,
          326,
          436,
          609,
          1101,
          891,
          589,
          639,
          1241,
          329,
          18547,
          5432,
          514,
          910,
          1115,
          598,
          828,
          3621,
          5741,
          527,
          4056,
          708,
          685,
          522,
          212,
          331,
          1160,
          392,
          636,
          314,
          1290,
          590,
          609,
          1760,
          486,
          2057,
          218,
          632,
          1754,
          1512,
          268,
          535,
          1580,
          840,
          542,
          1285,
          7533,
          1869,
          641,
          510,
          508,
          571,
          893,
          634,
          1151,
          779,
          272,
          473,
          1476,
          1762,
          332,
          765,
          928,
          932,
          443,
          771,
          745,
          7563,
          735,
          697,
          613,
          999,
          437,
          497,
          869,
          192,
          610,
          2167,
          891,
          1555,
          721,
          746,
          384,
          149,
          451,
          350,
          360,
          115,
          1158,
          1321,
          908,
          834,
          264,
          714,
          500,
          7097,
          767,
          1750,
          220,
          134,
          1217,
          1340,
          392,
          395,
          1867,
          302,
          335,
          745,
          414,
          658,
          226,
          1069,
          582,
          880,
          549,
          455,
          362,
          347,
          229,
          715,
          1640,
          747,
          261,
          342,
          637,
          604,
          1274,
          4765,
          621,
          684,
          597,
          703,
          414,
          719,
          936,
          556,
          2797,
          469,
          1061,
          685,
          632,
          474,
          247,
          387,
          1475,
          426,
          388,
          1710,
          541,
          1262,
          1544,
          522,
          427,
          556,
          848,
          2249,
          315,
          1022,
          389,
          245,
          1224,
          647,
          1720,
          184,
          2392,
          554,
          693,
          672,
          334,
          1385,
          1248,
          7209,
          2692,
          731,
          1314,
          5507,
          716,
          570,
          1127,
          1051,
          1173,
          191,
          424,
          899,
          663,
          980,
          510,
          559,
          1191,
          1381,
          732,
          141,
          3169,
          878,
          1089,
          966,
          2722,
          268,
          1115,
          9109,
          470,
          1843,
          1083,
          2407,
          1455,
          725,
          429,
          992,
          1350,
          1225,
          784,
          578,
          455,
          2128,
          7766,
          355,
          407,
          1565,
          519,
          1028,
          2154,
          620,
          151,
          711,
          1017,
          1065,
          552,
          1087,
          1089,
          291,
          1236,
          314,
          397,
          2296,
          1441,
          308,
          1034,
          1044,
          1681,
          590,
          1338,
          404,
          1228,
          673,
          2247,
          363,
          676,
          330,
          543,
          441,
          624,
          7527,
          780,
          1174,
          1231,
          1145,
          298,
          525,
          282,
          334,
          7814,
          385,
          829,
          227,
          309,
          263,
          456,
          3172,
          713,
          1266,
          761,
          578,
          378,
          248,
          602,
          989,
          544,
          1388,
          801,
          908,
          6032,
          1429,
          736,
          1847,
          1731,
          398,
          571,
          1453,
          1163,
          1774,
          442,
          188,
          1653,
          597,
          597,
          802,
          1165,
          427,
          88,
          202,
          860,
          3061,
          1884,
          751,
          2563,
          169,
          111,
          763,
          1501,
          1987,
          602,
          734,
          675,
          1432,
          954,
          1626,
          1104,
          300,
          376,
          530,
          992,
          302,
          1402,
          2203,
          657,
          398,
          1334,
          1156,
          281,
          521,
          319,
          125,
          883,
          803,
          1343,
          782,
          734,
          361,
          551,
          226,
          563,
          693,
          579,
          1807,
          1402,
          1358,
          497,
          1284,
          257,
          494,
          256,
          574,
          2175,
          2580,
          1471,
          315,
          842,
          968,
          521,
          1340,
          715,
          1182,
          604,
          793,
          644,
          595,
          412,
          791,
          887,
          456,
          1222,
          788,
          1422,
          1282,
          591,
          409,
          484,
          417,
          202,
          496,
          426,
          346,
          766,
          1227,
          6342,
          319,
          506,
          241,
          1321,
          600,
          545,
          1038,
          1544,
          545,
          288,
          2093,
          517,
          642,
          474,
          985,
          1001,
          212,
          1195,
          903,
          964,
          624,
          965,
          171,
          480,
          723,
          188,
          1551,
          961,
          144,
          479,
          1036,
          880,
          388,
          1457
         ],
         "xaxis": "x",
         "yaxis": "y"
        }
       ],
       "layout": {
        "barmode": "relative",
        "legend": {
         "tracegroupgap": 0
        },
        "template": {
         "data": {
          "bar": [
           {
            "error_x": {
             "color": "#2a3f5f"
            },
            "error_y": {
             "color": "#2a3f5f"
            },
            "marker": {
             "line": {
              "color": "#E5ECF6",
              "width": 0.5
             },
             "pattern": {
              "fillmode": "overlay",
              "size": 10,
              "solidity": 0.2
             }
            },
            "type": "bar"
           }
          ],
          "barpolar": [
           {
            "marker": {
             "line": {
              "color": "#E5ECF6",
              "width": 0.5
             },
             "pattern": {
              "fillmode": "overlay",
              "size": 10,
              "solidity": 0.2
             }
            },
            "type": "barpolar"
           }
          ],
          "carpet": [
           {
            "aaxis": {
             "endlinecolor": "#2a3f5f",
             "gridcolor": "white",
             "linecolor": "white",
             "minorgridcolor": "white",
             "startlinecolor": "#2a3f5f"
            },
            "baxis": {
             "endlinecolor": "#2a3f5f",
             "gridcolor": "white",
             "linecolor": "white",
             "minorgridcolor": "white",
             "startlinecolor": "#2a3f5f"
            },
            "type": "carpet"
           }
          ],
          "choropleth": [
           {
            "colorbar": {
             "outlinewidth": 0,
             "ticks": ""
            },
            "type": "choropleth"
           }
          ],
          "contour": [
           {
            "colorbar": {
             "outlinewidth": 0,
             "ticks": ""
            },
            "colorscale": [
             [
              0,
              "#0d0887"
             ],
             [
              0.1111111111111111,
              "#46039f"
             ],
             [
              0.2222222222222222,
              "#7201a8"
             ],
             [
              0.3333333333333333,
              "#9c179e"
             ],
             [
              0.4444444444444444,
              "#bd3786"
             ],
             [
              0.5555555555555556,
              "#d8576b"
             ],
             [
              0.6666666666666666,
              "#ed7953"
             ],
             [
              0.7777777777777778,
              "#fb9f3a"
             ],
             [
              0.8888888888888888,
              "#fdca26"
             ],
             [
              1,
              "#f0f921"
             ]
            ],
            "type": "contour"
           }
          ],
          "contourcarpet": [
           {
            "colorbar": {
             "outlinewidth": 0,
             "ticks": ""
            },
            "type": "contourcarpet"
           }
          ],
          "heatmap": [
           {
            "colorbar": {
             "outlinewidth": 0,
             "ticks": ""
            },
            "colorscale": [
             [
              0,
              "#0d0887"
             ],
             [
              0.1111111111111111,
              "#46039f"
             ],
             [
              0.2222222222222222,
              "#7201a8"
             ],
             [
              0.3333333333333333,
              "#9c179e"
             ],
             [
              0.4444444444444444,
              "#bd3786"
             ],
             [
              0.5555555555555556,
              "#d8576b"
             ],
             [
              0.6666666666666666,
              "#ed7953"
             ],
             [
              0.7777777777777778,
              "#fb9f3a"
             ],
             [
              0.8888888888888888,
              "#fdca26"
             ],
             [
              1,
              "#f0f921"
             ]
            ],
            "type": "heatmap"
           }
          ],
          "heatmapgl": [
           {
            "colorbar": {
             "outlinewidth": 0,
             "ticks": ""
            },
            "colorscale": [
             [
              0,
              "#0d0887"
             ],
             [
              0.1111111111111111,
              "#46039f"
             ],
             [
              0.2222222222222222,
              "#7201a8"
             ],
             [
              0.3333333333333333,
              "#9c179e"
             ],
             [
              0.4444444444444444,
              "#bd3786"
             ],
             [
              0.5555555555555556,
              "#d8576b"
             ],
             [
              0.6666666666666666,
              "#ed7953"
             ],
             [
              0.7777777777777778,
              "#fb9f3a"
             ],
             [
              0.8888888888888888,
              "#fdca26"
             ],
             [
              1,
              "#f0f921"
             ]
            ],
            "type": "heatmapgl"
           }
          ],
          "histogram": [
           {
            "marker": {
             "pattern": {
              "fillmode": "overlay",
              "size": 10,
              "solidity": 0.2
             }
            },
            "type": "histogram"
           }
          ],
          "histogram2d": [
           {
            "colorbar": {
             "outlinewidth": 0,
             "ticks": ""
            },
            "colorscale": [
             [
              0,
              "#0d0887"
             ],
             [
              0.1111111111111111,
              "#46039f"
             ],
             [
              0.2222222222222222,
              "#7201a8"
             ],
             [
              0.3333333333333333,
              "#9c179e"
             ],
             [
              0.4444444444444444,
              "#bd3786"
             ],
             [
              0.5555555555555556,
              "#d8576b"
             ],
             [
              0.6666666666666666,
              "#ed7953"
             ],
             [
              0.7777777777777778,
              "#fb9f3a"
             ],
             [
              0.8888888888888888,
              "#fdca26"
             ],
             [
              1,
              "#f0f921"
             ]
            ],
            "type": "histogram2d"
           }
          ],
          "histogram2dcontour": [
           {
            "colorbar": {
             "outlinewidth": 0,
             "ticks": ""
            },
            "colorscale": [
             [
              0,
              "#0d0887"
             ],
             [
              0.1111111111111111,
              "#46039f"
             ],
             [
              0.2222222222222222,
              "#7201a8"
             ],
             [
              0.3333333333333333,
              "#9c179e"
             ],
             [
              0.4444444444444444,
              "#bd3786"
             ],
             [
              0.5555555555555556,
              "#d8576b"
             ],
             [
              0.6666666666666666,
              "#ed7953"
             ],
             [
              0.7777777777777778,
              "#fb9f3a"
             ],
             [
              0.8888888888888888,
              "#fdca26"
             ],
             [
              1,
              "#f0f921"
             ]
            ],
            "type": "histogram2dcontour"
           }
          ],
          "mesh3d": [
           {
            "colorbar": {
             "outlinewidth": 0,
             "ticks": ""
            },
            "type": "mesh3d"
           }
          ],
          "parcoords": [
           {
            "line": {
             "colorbar": {
              "outlinewidth": 0,
              "ticks": ""
             }
            },
            "type": "parcoords"
           }
          ],
          "pie": [
           {
            "automargin": true,
            "type": "pie"
           }
          ],
          "scatter": [
           {
            "fillpattern": {
             "fillmode": "overlay",
             "size": 10,
             "solidity": 0.2
            },
            "type": "scatter"
           }
          ],
          "scatter3d": [
           {
            "line": {
             "colorbar": {
              "outlinewidth": 0,
              "ticks": ""
             }
            },
            "marker": {
             "colorbar": {
              "outlinewidth": 0,
              "ticks": ""
             }
            },
            "type": "scatter3d"
           }
          ],
          "scattercarpet": [
           {
            "marker": {
             "colorbar": {
              "outlinewidth": 0,
              "ticks": ""
             }
            },
            "type": "scattercarpet"
           }
          ],
          "scattergeo": [
           {
            "marker": {
             "colorbar": {
              "outlinewidth": 0,
              "ticks": ""
             }
            },
            "type": "scattergeo"
           }
          ],
          "scattergl": [
           {
            "marker": {
             "colorbar": {
              "outlinewidth": 0,
              "ticks": ""
             }
            },
            "type": "scattergl"
           }
          ],
          "scattermapbox": [
           {
            "marker": {
             "colorbar": {
              "outlinewidth": 0,
              "ticks": ""
             }
            },
            "type": "scattermapbox"
           }
          ],
          "scatterpolar": [
           {
            "marker": {
             "colorbar": {
              "outlinewidth": 0,
              "ticks": ""
             }
            },
            "type": "scatterpolar"
           }
          ],
          "scatterpolargl": [
           {
            "marker": {
             "colorbar": {
              "outlinewidth": 0,
              "ticks": ""
             }
            },
            "type": "scatterpolargl"
           }
          ],
          "scatterternary": [
           {
            "marker": {
             "colorbar": {
              "outlinewidth": 0,
              "ticks": ""
             }
            },
            "type": "scatterternary"
           }
          ],
          "surface": [
           {
            "colorbar": {
             "outlinewidth": 0,
             "ticks": ""
            },
            "colorscale": [
             [
              0,
              "#0d0887"
             ],
             [
              0.1111111111111111,
              "#46039f"
             ],
             [
              0.2222222222222222,
              "#7201a8"
             ],
             [
              0.3333333333333333,
              "#9c179e"
             ],
             [
              0.4444444444444444,
              "#bd3786"
             ],
             [
              0.5555555555555556,
              "#d8576b"
             ],
             [
              0.6666666666666666,
              "#ed7953"
             ],
             [
              0.7777777777777778,
              "#fb9f3a"
             ],
             [
              0.8888888888888888,
              "#fdca26"
             ],
             [
              1,
              "#f0f921"
             ]
            ],
            "type": "surface"
           }
          ],
          "table": [
           {
            "cells": {
             "fill": {
              "color": "#EBF0F8"
             },
             "line": {
              "color": "white"
             }
            },
            "header": {
             "fill": {
              "color": "#C8D4E3"
             },
             "line": {
              "color": "white"
             }
            },
            "type": "table"
           }
          ]
         },
         "layout": {
          "annotationdefaults": {
           "arrowcolor": "#2a3f5f",
           "arrowhead": 0,
           "arrowwidth": 1
          },
          "autotypenumbers": "strict",
          "coloraxis": {
           "colorbar": {
            "outlinewidth": 0,
            "ticks": ""
           }
          },
          "colorscale": {
           "diverging": [
            [
             0,
             "#8e0152"
            ],
            [
             0.1,
             "#c51b7d"
            ],
            [
             0.2,
             "#de77ae"
            ],
            [
             0.3,
             "#f1b6da"
            ],
            [
             0.4,
             "#fde0ef"
            ],
            [
             0.5,
             "#f7f7f7"
            ],
            [
             0.6,
             "#e6f5d0"
            ],
            [
             0.7,
             "#b8e186"
            ],
            [
             0.8,
             "#7fbc41"
            ],
            [
             0.9,
             "#4d9221"
            ],
            [
             1,
             "#276419"
            ]
           ],
           "sequential": [
            [
             0,
             "#0d0887"
            ],
            [
             0.1111111111111111,
             "#46039f"
            ],
            [
             0.2222222222222222,
             "#7201a8"
            ],
            [
             0.3333333333333333,
             "#9c179e"
            ],
            [
             0.4444444444444444,
             "#bd3786"
            ],
            [
             0.5555555555555556,
             "#d8576b"
            ],
            [
             0.6666666666666666,
             "#ed7953"
            ],
            [
             0.7777777777777778,
             "#fb9f3a"
            ],
            [
             0.8888888888888888,
             "#fdca26"
            ],
            [
             1,
             "#f0f921"
            ]
           ],
           "sequentialminus": [
            [
             0,
             "#0d0887"
            ],
            [
             0.1111111111111111,
             "#46039f"
            ],
            [
             0.2222222222222222,
             "#7201a8"
            ],
            [
             0.3333333333333333,
             "#9c179e"
            ],
            [
             0.4444444444444444,
             "#bd3786"
            ],
            [
             0.5555555555555556,
             "#d8576b"
            ],
            [
             0.6666666666666666,
             "#ed7953"
            ],
            [
             0.7777777777777778,
             "#fb9f3a"
            ],
            [
             0.8888888888888888,
             "#fdca26"
            ],
            [
             1,
             "#f0f921"
            ]
           ]
          },
          "colorway": [
           "#636efa",
           "#EF553B",
           "#00cc96",
           "#ab63fa",
           "#FFA15A",
           "#19d3f3",
           "#FF6692",
           "#B6E880",
           "#FF97FF",
           "#FECB52"
          ],
          "font": {
           "color": "#2a3f5f"
          },
          "geo": {
           "bgcolor": "white",
           "lakecolor": "white",
           "landcolor": "#E5ECF6",
           "showlakes": true,
           "showland": true,
           "subunitcolor": "white"
          },
          "hoverlabel": {
           "align": "left"
          },
          "hovermode": "closest",
          "mapbox": {
           "style": "light"
          },
          "paper_bgcolor": "white",
          "plot_bgcolor": "#E5ECF6",
          "polar": {
           "angularaxis": {
            "gridcolor": "white",
            "linecolor": "white",
            "ticks": ""
           },
           "bgcolor": "#E5ECF6",
           "radialaxis": {
            "gridcolor": "white",
            "linecolor": "white",
            "ticks": ""
           }
          },
          "scene": {
           "xaxis": {
            "backgroundcolor": "#E5ECF6",
            "gridcolor": "white",
            "gridwidth": 2,
            "linecolor": "white",
            "showbackground": true,
            "ticks": "",
            "zerolinecolor": "white"
           },
           "yaxis": {
            "backgroundcolor": "#E5ECF6",
            "gridcolor": "white",
            "gridwidth": 2,
            "linecolor": "white",
            "showbackground": true,
            "ticks": "",
            "zerolinecolor": "white"
           },
           "zaxis": {
            "backgroundcolor": "#E5ECF6",
            "gridcolor": "white",
            "gridwidth": 2,
            "linecolor": "white",
            "showbackground": true,
            "ticks": "",
            "zerolinecolor": "white"
           }
          },
          "shapedefaults": {
           "line": {
            "color": "#2a3f5f"
           }
          },
          "ternary": {
           "aaxis": {
            "gridcolor": "white",
            "linecolor": "white",
            "ticks": ""
           },
           "baxis": {
            "gridcolor": "white",
            "linecolor": "white",
            "ticks": ""
           },
           "bgcolor": "#E5ECF6",
           "caxis": {
            "gridcolor": "white",
            "linecolor": "white",
            "ticks": ""
           }
          },
          "title": {
           "x": 0.05
          },
          "xaxis": {
           "automargin": true,
           "gridcolor": "white",
           "linecolor": "white",
           "ticks": "",
           "title": {
            "standoff": 15
           },
           "zerolinecolor": "white",
           "zerolinewidth": 2
          },
          "yaxis": {
           "automargin": true,
           "gridcolor": "white",
           "linecolor": "white",
           "ticks": "",
           "title": {
            "standoff": 15
           },
           "zerolinecolor": "white",
           "zerolinewidth": 2
          }
         }
        },
        "title": {
         "text": "Distribución de los Precios de los Productos"
        },
        "xaxis": {
         "anchor": "y",
         "domain": [
          0,
          1
         ],
         "range": [
          0,
          10000
         ],
         "title": {
          "text": "review_length"
         }
        },
        "yaxis": {
         "anchor": "x",
         "domain": [
          0,
          1
         ],
         "title": {
          "text": "count"
         }
        }
       }
      },
      "text/html": [
       "<div>                            <div id=\"f31a96fb-3eaa-433d-8880-bdd463f76f61\" class=\"plotly-graph-div\" style=\"height:525px; width:100%;\"></div>            <script type=\"text/javascript\">                require([\"plotly\"], function(Plotly) {                    window.PLOTLYENV=window.PLOTLYENV || {};                                    if (document.getElementById(\"f31a96fb-3eaa-433d-8880-bdd463f76f61\")) {                    Plotly.newPlot(                        \"f31a96fb-3eaa-433d-8880-bdd463f76f61\",                        [{\"alignmentgroup\":\"True\",\"bingroup\":\"x\",\"hovertemplate\":\"review_length=%{x}<br>count=%{y}<extra></extra>\",\"legendgroup\":\"\",\"marker\":{\"color\":\"#636efa\",\"pattern\":{\"shape\":\"\"}},\"name\":\"\",\"offsetgroup\":\"\",\"orientation\":\"v\",\"showlegend\":false,\"x\":[483,1186,271,443,2451,250,594,758,3989,1186,876,443,901,766,694,439,759,1186,839,434,600,839,549,505,4919,1181,3945,943,555,836,1254,1092,546,555,468,274,1086,915,4937,1066,569,13253,483,964,505,533,483,901,936,8642,3226,8642,1141,2206,613,336,3989,3945,624,513,457,4728,1326,639,1188,901,1046,1578,464,668,1508,481,1188,770,2466,1385,317,675,325,984,483,529,604,549,905,4937,4919,4728,914,459,502,3945,443,492,2707,426,706,509,1995,538,313,461,943,783,916,699,483,925,2546,274,757,836,2012,2466,238,1229,557,688,1326,668,545,409,667,3550,1188,1051,1632,486,1411,520,4919,699,1089,475,280,1462,468,359,660,836,1059,3226,1136,3989,3385,289,802,1294,702,1118,1594,546,549,758,3909,67,545,9521,575,373,1446,2863,770,274,1178,667,916,406,2274,474,1465,4919,317,1208,208,561,529,1059,505,1090,333,492,765,1086,753,414,1086,699,1146,702,2230,320,4728,288,629,440,505,783,771,265,574,364,723,1131,199,1261,308,6876,710,554,707,740,1254,1568,387,178,3228,377,409,681,459,578,1305,2373,1536,443,628,364,174,572,1726,1188,1255,289,440,725,1089,1643,660,2071,317,2863,928,546,555,549,468,639,571,3411,892,474,947,529,462,2546,697,1208,443,869,1423,905,771,523,1533,4919,276,492,3365,572,2274,541,538,252,525,381,4728,295,783,657,972,359,446,1462,458,492,914,437,906,753,1304,566,902,212,1742,410,546,682,583,274,493,1181,166,431,432,581,414,395,1003,845,759,1464,1147,710,526,844,638,709,486,417,1512,5146,591,286,86,3228,2607,414,526,852,303,352,1155,192,2959,4327,2780,1610,1159,5819,5819,1159,1159,335,1578,1019,443,1076,2744,938,161,441,801,335,2744,1121,1610,1259,1121,655,1258,10220,335,2971,2959,1846,10220,669,2959,459,1007,1007,2959,161,548,5245,840,1186,1041,223,2959,161,555,4746,1754,4327,461,3357,1130,557,655,2780,443,2451,8718,800,936,1090,391,2971,801,1041,1755,250,1230,4194,5819,578,3446,2971,5220,10220,363,1121,1019,873,1090,7210,594,2971,11925,2780,758,1186,1077,2971,500,9561,876,3357,851,464,858,281,1041,1041,3357,926,317,391,1610,1019,1041,443,1121,2971,461,2182,668,1019,1495,380,882,669,766,481,694,443,2780,1649,1804,1116,1432,375,415,669,661,600,2038,2744,1186,818,883,1007,1847,902,447,281,505,1076,1015,2971,1015,548,1846,908,505,702,770,1041,780,823,375,1130,420,1124,443,1495,5470,2126,1495,9561,1429,836,555,711,375,335,4327,9561,190,2126,426,1575,250,269,481,1258,1086,452,1208,908,756,661,285,1432,707,1863,1941,213,433,2889,2126,6447,898,1609,9643,335,473,7414,1141,3508,461,6270,5722,522,548,402,1191,477,626,420,1579,1002,9561,987,851,750,346,1258,211,1927,668,948,770,452,1007,1091,10073,1385,317,1074,436,658,5245,124,1138,1396,661,2436,447,2971,507,1741,801,5430,4327,2780,195,4799,863,2936,1271,335,1578,3545,448,1016,1076,975,638,2077,725,441,4894,680,1208,658,1258,2622,645,1915,916,6649,483,331,312,308,5668,5245,592,1318,1186,271,863,188,967,838,443,1139,954,642,2451,1173,800,936,8145,482,1439,926,1751,1116,250,384,578,595,529,1727,872,5992,215,1276,896,700,438,998,14699,7210,594,252,571,920,3719,2092,2976,7149,298,855,758,610,555,996,548,876,261,1405,3275,11925,739,990,3866,314,704,1111,901,2112,281,830,1420,766,3623,11090,694,1572,675,430,404,3154,1831,415,600,1197,740,400,1847,2333,1778,549,655,987,367,566,4075,1804,434,603,2059,637,13239,1913,1096,1060,839,549,635,823,694,505,722,734,1501,1181,667,1601,1730,908,555,991,455,342,1015,1032,875,900,1009,190,2196,2341,610,1385,167,1749,1636,636,635,697,4404,451,667,2625,8871,1375,399,1036,765,532,1148,1605,943,239,834,836,798,1546,285,1399,2955,10639,544,338,754,1357,603,352,555,5575,1046,855,616,1019,557,1137,2124,2955,2090,2848,449,1660,826,666,3588,771,1254,282,4949,480,680,435,587,1505,2197,314,2060,910,860,455,558,839,1092,970,721,578,3006,546,1479,306,409,1186,915,393,5580,694,344,531,822,985,468,559,1253,1086,915,467,1161,2475,775,1109,1033,1055,1238,965,351,1066,569,1130,261,668,1841,533,497,1033,1201,211,362,1124,913,574,517,2725,806,964,440,543,317,3248,889,830,962,1305,610,5792,1830,483,1171,3496,445,8642,1198,249,7414,1628,737,1060,908,612,3226,408,855,2139,1141,1170,1682,420,1966,539,335,1273,783,2528,613,997,1609,2328,478,695,3628,444,4004,1554,9643,623,855,1191,3327,1092,1001,624,3508,897,513,1738,10766,391,677,944,293,1565,430,1995,1326,2833,1175,789,2453,639,699,5925,1593,582,1629,687,177,1398,235,1188,789,219,5780,481,1420,851,688,840,1603,1214,2093,824,5945,2895,1046,3573,715,751,1890,1743,668,445,11410,9871,536,1532,222,977,1617,770,693,2466,560,184,754,428,1385,487,317,1761,1227,1708,703,356,2513,1562,325,2097,382,1588,508,9745,843,1074,5439,2295,905,396,742,843,1716,1651,2375,1741,914,502,1048,462,3811,342,320,921,428,432,699,1129,247,396,1033,1053,3028,783,660,767,676,1700,1336,925,739,703,896,408,519,326,436,609,1101,891,589,639,1241,329,18547,5432,514,910,1115,598,828,3621,5741,527,4056,708,685,522,212,331,1160,392,636,314,1290,590,609,1760,486,2057,218,632,1754,1512,268,535,1580,840,542,1285,7533,1869,641,510,508,571,893,634,1151,779,272,473,1476,1762,332,765,928,932,443,771,745,7563,735,697,613,999,437,497,869,192,610,2167,891,1555,721,746,384,149,451,350,360,115,1158,1321,908,834,264,714,500,7097,767,1750,220,134,1217,1340,392,395,1867,302,335,745,414,658,226,1069,582,880,549,455,362,347,229,715,1640,747,261,342,637,604,1274,4765,621,684,597,703,414,719,936,556,2797,469,1061,685,632,474,247,387,1475,426,388,1710,541,1262,1544,522,427,556,848,2249,315,1022,389,245,1224,647,1720,184,2392,554,693,672,334,1385,1248,7209,2692,731,1314,5507,716,570,1127,1051,1173,191,424,899,663,980,510,559,1191,1381,732,141,3169,878,1089,966,2722,268,1115,9109,470,1843,1083,2407,1455,725,429,992,1350,1225,784,578,455,2128,7766,355,407,1565,519,1028,2154,620,151,711,1017,1065,552,1087,1089,291,1236,314,397,2296,1441,308,1034,1044,1681,590,1338,404,1228,673,2247,363,676,330,543,441,624,7527,780,1174,1231,1145,298,525,282,334,7814,385,829,227,309,263,456,3172,713,1266,761,578,378,248,602,989,544,1388,801,908,6032,1429,736,1847,1731,398,571,1453,1163,1774,442,188,1653,597,597,802,1165,427,88,202,860,3061,1884,751,2563,169,111,763,1501,1987,602,734,675,1432,954,1626,1104,300,376,530,992,302,1402,2203,657,398,1334,1156,281,521,319,125,883,803,1343,782,734,361,551,226,563,693,579,1807,1402,1358,497,1284,257,494,256,574,2175,2580,1471,315,842,968,521,1340,715,1182,604,793,644,595,412,791,887,456,1222,788,1422,1282,591,409,484,417,202,496,426,346,766,1227,6342,319,506,241,1321,600,545,1038,1544,545,288,2093,517,642,474,985,1001,212,1195,903,964,624,965,171,480,723,188,1551,961,144,479,1036,880,388,1457],\"xaxis\":\"x\",\"yaxis\":\"y\",\"type\":\"histogram\"}],                        {\"template\":{\"data\":{\"histogram2dcontour\":[{\"type\":\"histogram2dcontour\",\"colorbar\":{\"outlinewidth\":0,\"ticks\":\"\"},\"colorscale\":[[0.0,\"#0d0887\"],[0.1111111111111111,\"#46039f\"],[0.2222222222222222,\"#7201a8\"],[0.3333333333333333,\"#9c179e\"],[0.4444444444444444,\"#bd3786\"],[0.5555555555555556,\"#d8576b\"],[0.6666666666666666,\"#ed7953\"],[0.7777777777777778,\"#fb9f3a\"],[0.8888888888888888,\"#fdca26\"],[1.0,\"#f0f921\"]]}],\"choropleth\":[{\"type\":\"choropleth\",\"colorbar\":{\"outlinewidth\":0,\"ticks\":\"\"}}],\"histogram2d\":[{\"type\":\"histogram2d\",\"colorbar\":{\"outlinewidth\":0,\"ticks\":\"\"},\"colorscale\":[[0.0,\"#0d0887\"],[0.1111111111111111,\"#46039f\"],[0.2222222222222222,\"#7201a8\"],[0.3333333333333333,\"#9c179e\"],[0.4444444444444444,\"#bd3786\"],[0.5555555555555556,\"#d8576b\"],[0.6666666666666666,\"#ed7953\"],[0.7777777777777778,\"#fb9f3a\"],[0.8888888888888888,\"#fdca26\"],[1.0,\"#f0f921\"]]}],\"heatmap\":[{\"type\":\"heatmap\",\"colorbar\":{\"outlinewidth\":0,\"ticks\":\"\"},\"colorscale\":[[0.0,\"#0d0887\"],[0.1111111111111111,\"#46039f\"],[0.2222222222222222,\"#7201a8\"],[0.3333333333333333,\"#9c179e\"],[0.4444444444444444,\"#bd3786\"],[0.5555555555555556,\"#d8576b\"],[0.6666666666666666,\"#ed7953\"],[0.7777777777777778,\"#fb9f3a\"],[0.8888888888888888,\"#fdca26\"],[1.0,\"#f0f921\"]]}],\"heatmapgl\":[{\"type\":\"heatmapgl\",\"colorbar\":{\"outlinewidth\":0,\"ticks\":\"\"},\"colorscale\":[[0.0,\"#0d0887\"],[0.1111111111111111,\"#46039f\"],[0.2222222222222222,\"#7201a8\"],[0.3333333333333333,\"#9c179e\"],[0.4444444444444444,\"#bd3786\"],[0.5555555555555556,\"#d8576b\"],[0.6666666666666666,\"#ed7953\"],[0.7777777777777778,\"#fb9f3a\"],[0.8888888888888888,\"#fdca26\"],[1.0,\"#f0f921\"]]}],\"contourcarpet\":[{\"type\":\"contourcarpet\",\"colorbar\":{\"outlinewidth\":0,\"ticks\":\"\"}}],\"contour\":[{\"type\":\"contour\",\"colorbar\":{\"outlinewidth\":0,\"ticks\":\"\"},\"colorscale\":[[0.0,\"#0d0887\"],[0.1111111111111111,\"#46039f\"],[0.2222222222222222,\"#7201a8\"],[0.3333333333333333,\"#9c179e\"],[0.4444444444444444,\"#bd3786\"],[0.5555555555555556,\"#d8576b\"],[0.6666666666666666,\"#ed7953\"],[0.7777777777777778,\"#fb9f3a\"],[0.8888888888888888,\"#fdca26\"],[1.0,\"#f0f921\"]]}],\"surface\":[{\"type\":\"surface\",\"colorbar\":{\"outlinewidth\":0,\"ticks\":\"\"},\"colorscale\":[[0.0,\"#0d0887\"],[0.1111111111111111,\"#46039f\"],[0.2222222222222222,\"#7201a8\"],[0.3333333333333333,\"#9c179e\"],[0.4444444444444444,\"#bd3786\"],[0.5555555555555556,\"#d8576b\"],[0.6666666666666666,\"#ed7953\"],[0.7777777777777778,\"#fb9f3a\"],[0.8888888888888888,\"#fdca26\"],[1.0,\"#f0f921\"]]}],\"mesh3d\":[{\"type\":\"mesh3d\",\"colorbar\":{\"outlinewidth\":0,\"ticks\":\"\"}}],\"scatter\":[{\"fillpattern\":{\"fillmode\":\"overlay\",\"size\":10,\"solidity\":0.2},\"type\":\"scatter\"}],\"parcoords\":[{\"type\":\"parcoords\",\"line\":{\"colorbar\":{\"outlinewidth\":0,\"ticks\":\"\"}}}],\"scatterpolargl\":[{\"type\":\"scatterpolargl\",\"marker\":{\"colorbar\":{\"outlinewidth\":0,\"ticks\":\"\"}}}],\"bar\":[{\"error_x\":{\"color\":\"#2a3f5f\"},\"error_y\":{\"color\":\"#2a3f5f\"},\"marker\":{\"line\":{\"color\":\"#E5ECF6\",\"width\":0.5},\"pattern\":{\"fillmode\":\"overlay\",\"size\":10,\"solidity\":0.2}},\"type\":\"bar\"}],\"scattergeo\":[{\"type\":\"scattergeo\",\"marker\":{\"colorbar\":{\"outlinewidth\":0,\"ticks\":\"\"}}}],\"scatterpolar\":[{\"type\":\"scatterpolar\",\"marker\":{\"colorbar\":{\"outlinewidth\":0,\"ticks\":\"\"}}}],\"histogram\":[{\"marker\":{\"pattern\":{\"fillmode\":\"overlay\",\"size\":10,\"solidity\":0.2}},\"type\":\"histogram\"}],\"scattergl\":[{\"type\":\"scattergl\",\"marker\":{\"colorbar\":{\"outlinewidth\":0,\"ticks\":\"\"}}}],\"scatter3d\":[{\"type\":\"scatter3d\",\"line\":{\"colorbar\":{\"outlinewidth\":0,\"ticks\":\"\"}},\"marker\":{\"colorbar\":{\"outlinewidth\":0,\"ticks\":\"\"}}}],\"scattermapbox\":[{\"type\":\"scattermapbox\",\"marker\":{\"colorbar\":{\"outlinewidth\":0,\"ticks\":\"\"}}}],\"scatterternary\":[{\"type\":\"scatterternary\",\"marker\":{\"colorbar\":{\"outlinewidth\":0,\"ticks\":\"\"}}}],\"scattercarpet\":[{\"type\":\"scattercarpet\",\"marker\":{\"colorbar\":{\"outlinewidth\":0,\"ticks\":\"\"}}}],\"carpet\":[{\"aaxis\":{\"endlinecolor\":\"#2a3f5f\",\"gridcolor\":\"white\",\"linecolor\":\"white\",\"minorgridcolor\":\"white\",\"startlinecolor\":\"#2a3f5f\"},\"baxis\":{\"endlinecolor\":\"#2a3f5f\",\"gridcolor\":\"white\",\"linecolor\":\"white\",\"minorgridcolor\":\"white\",\"startlinecolor\":\"#2a3f5f\"},\"type\":\"carpet\"}],\"table\":[{\"cells\":{\"fill\":{\"color\":\"#EBF0F8\"},\"line\":{\"color\":\"white\"}},\"header\":{\"fill\":{\"color\":\"#C8D4E3\"},\"line\":{\"color\":\"white\"}},\"type\":\"table\"}],\"barpolar\":[{\"marker\":{\"line\":{\"color\":\"#E5ECF6\",\"width\":0.5},\"pattern\":{\"fillmode\":\"overlay\",\"size\":10,\"solidity\":0.2}},\"type\":\"barpolar\"}],\"pie\":[{\"automargin\":true,\"type\":\"pie\"}]},\"layout\":{\"autotypenumbers\":\"strict\",\"colorway\":[\"#636efa\",\"#EF553B\",\"#00cc96\",\"#ab63fa\",\"#FFA15A\",\"#19d3f3\",\"#FF6692\",\"#B6E880\",\"#FF97FF\",\"#FECB52\"],\"font\":{\"color\":\"#2a3f5f\"},\"hovermode\":\"closest\",\"hoverlabel\":{\"align\":\"left\"},\"paper_bgcolor\":\"white\",\"plot_bgcolor\":\"#E5ECF6\",\"polar\":{\"bgcolor\":\"#E5ECF6\",\"angularaxis\":{\"gridcolor\":\"white\",\"linecolor\":\"white\",\"ticks\":\"\"},\"radialaxis\":{\"gridcolor\":\"white\",\"linecolor\":\"white\",\"ticks\":\"\"}},\"ternary\":{\"bgcolor\":\"#E5ECF6\",\"aaxis\":{\"gridcolor\":\"white\",\"linecolor\":\"white\",\"ticks\":\"\"},\"baxis\":{\"gridcolor\":\"white\",\"linecolor\":\"white\",\"ticks\":\"\"},\"caxis\":{\"gridcolor\":\"white\",\"linecolor\":\"white\",\"ticks\":\"\"}},\"coloraxis\":{\"colorbar\":{\"outlinewidth\":0,\"ticks\":\"\"}},\"colorscale\":{\"sequential\":[[0.0,\"#0d0887\"],[0.1111111111111111,\"#46039f\"],[0.2222222222222222,\"#7201a8\"],[0.3333333333333333,\"#9c179e\"],[0.4444444444444444,\"#bd3786\"],[0.5555555555555556,\"#d8576b\"],[0.6666666666666666,\"#ed7953\"],[0.7777777777777778,\"#fb9f3a\"],[0.8888888888888888,\"#fdca26\"],[1.0,\"#f0f921\"]],\"sequentialminus\":[[0.0,\"#0d0887\"],[0.1111111111111111,\"#46039f\"],[0.2222222222222222,\"#7201a8\"],[0.3333333333333333,\"#9c179e\"],[0.4444444444444444,\"#bd3786\"],[0.5555555555555556,\"#d8576b\"],[0.6666666666666666,\"#ed7953\"],[0.7777777777777778,\"#fb9f3a\"],[0.8888888888888888,\"#fdca26\"],[1.0,\"#f0f921\"]],\"diverging\":[[0,\"#8e0152\"],[0.1,\"#c51b7d\"],[0.2,\"#de77ae\"],[0.3,\"#f1b6da\"],[0.4,\"#fde0ef\"],[0.5,\"#f7f7f7\"],[0.6,\"#e6f5d0\"],[0.7,\"#b8e186\"],[0.8,\"#7fbc41\"],[0.9,\"#4d9221\"],[1,\"#276419\"]]},\"xaxis\":{\"gridcolor\":\"white\",\"linecolor\":\"white\",\"ticks\":\"\",\"title\":{\"standoff\":15},\"zerolinecolor\":\"white\",\"automargin\":true,\"zerolinewidth\":2},\"yaxis\":{\"gridcolor\":\"white\",\"linecolor\":\"white\",\"ticks\":\"\",\"title\":{\"standoff\":15},\"zerolinecolor\":\"white\",\"automargin\":true,\"zerolinewidth\":2},\"scene\":{\"xaxis\":{\"backgroundcolor\":\"#E5ECF6\",\"gridcolor\":\"white\",\"linecolor\":\"white\",\"showbackground\":true,\"ticks\":\"\",\"zerolinecolor\":\"white\",\"gridwidth\":2},\"yaxis\":{\"backgroundcolor\":\"#E5ECF6\",\"gridcolor\":\"white\",\"linecolor\":\"white\",\"showbackground\":true,\"ticks\":\"\",\"zerolinecolor\":\"white\",\"gridwidth\":2},\"zaxis\":{\"backgroundcolor\":\"#E5ECF6\",\"gridcolor\":\"white\",\"linecolor\":\"white\",\"showbackground\":true,\"ticks\":\"\",\"zerolinecolor\":\"white\",\"gridwidth\":2}},\"shapedefaults\":{\"line\":{\"color\":\"#2a3f5f\"}},\"annotationdefaults\":{\"arrowcolor\":\"#2a3f5f\",\"arrowhead\":0,\"arrowwidth\":1},\"geo\":{\"bgcolor\":\"white\",\"landcolor\":\"#E5ECF6\",\"subunitcolor\":\"white\",\"showland\":true,\"showlakes\":true,\"lakecolor\":\"white\"},\"title\":{\"x\":0.05},\"mapbox\":{\"style\":\"light\"}}},\"xaxis\":{\"anchor\":\"y\",\"domain\":[0.0,1.0],\"title\":{\"text\":\"review_length\"},\"range\":[0,10000]},\"yaxis\":{\"anchor\":\"x\",\"domain\":[0.0,1.0],\"title\":{\"text\":\"count\"}},\"legend\":{\"tracegroupgap\":0},\"title\":{\"text\":\"Distribuci\\u00f3n de los Precios de los Productos\"},\"barmode\":\"relative\"},                        {\"responsive\": true}                    ).then(function(){\n",
       "                            \n",
       "var gd = document.getElementById('f31a96fb-3eaa-433d-8880-bdd463f76f61');\n",
       "var x = new MutationObserver(function (mutations, observer) {{\n",
       "        var display = window.getComputedStyle(gd).display;\n",
       "        if (!display || display === 'none') {{\n",
       "            console.log([gd, 'removed!']);\n",
       "            Plotly.purge(gd);\n",
       "            observer.disconnect();\n",
       "        }}\n",
       "}});\n",
       "\n",
       "// Listen for the removal of the full notebook cells\n",
       "var notebookContainer = gd.closest('#notebook-container');\n",
       "if (notebookContainer) {{\n",
       "    x.observe(notebookContainer, {childList: true});\n",
       "}}\n",
       "\n",
       "// Listen for the clearing of the current output cell\n",
       "var outputEl = gd.closest('.output');\n",
       "if (outputEl) {{\n",
       "    x.observe(outputEl, {childList: true});\n",
       "}}\n",
       "\n",
       "                        })                };                });            </script>        </div>"
      ]
     },
     "metadata": {},
     "output_type": "display_data"
    }
   ],
   "source": [
    "df[\"review_length\"] = df[\"review_content\"].str.len()\n",
    "fig = px.histogram(df, x=\"review_length\", title=\"Distribución de los Precios de los Productos\",  range_x=[0, 10000])\n",
    "fig.show()\n"
   ]
  },
  {
   "cell_type": "code",
   "execution_count": null,
   "id": "cdadc848-4684-4a85-a034-78a1ad579b5e",
   "metadata": {},
   "outputs": [],
   "source": []
  },
  {
   "cell_type": "code",
   "execution_count": 101,
   "id": "c8bce157",
   "metadata": {},
   "outputs": [],
   "source": [
    "# Percentage from \"PP%\"\" to PP/100 value\n",
    "df['discount_percentage'] = df['discount_percentage'].str.replace('%','').astype('float64')\n",
    "df['discount_percentage'] = df['discount_percentage'] / 100\n",
    "# Rating Counts with \",\" as thousand separator\n",
    "df['rating_count'] = df['rating_count'].str.replace(\",\",'').astype('float64')\n",
    "# Prices with \",\" as thousands separator\n",
    "df['discounted_price'] = df['discounted_price'].str.replace(\"₹\",'')\n",
    "df['discounted_price'] = df['discounted_price'].str.replace(\",\",'')\n",
    "df['discounted_price'] = df['discounted_price'].astype('float64')\n",
    "df['actual_price'] = df['actual_price'].str.replace(\"₹\",'')\n",
    "df['actual_price'] = df['actual_price'].str.replace(\",\",'')\n",
    "df['actual_price'] = df['actual_price'].astype('float64')"
   ]
  },
  {
   "cell_type": "code",
   "execution_count": 102,
   "id": "4be372b5",
   "metadata": {},
   "outputs": [
    {
     "data": {
      "text/plain": [
       "array(['4.2', '4.0', '3.9', '4.1', '4.3', '4.4', '4.5', '3.7', '3.3',\n",
       "       '3.6', '3.4', '3.8', '3.5', '4.6', '3.2', '5.0', '4.7', '3.0',\n",
       "       '2.8', '4', '3.1', '4.8', '2.3', '|', '2', '3', '2.6', '2.9'],\n",
       "      dtype=object)"
      ]
     },
     "execution_count": 102,
     "metadata": {},
     "output_type": "execute_result"
    }
   ],
   "source": [
    "df['rating'].unique()"
   ]
  },
  {
   "cell_type": "code",
   "execution_count": 103,
   "id": "d16f28c7",
   "metadata": {},
   "outputs": [],
   "source": [
    "def clean_values(value):\n",
    "    # Split the value by comma and return the first part (User ID or User Name)\n",
    "    return value.split(',')[0].strip()  # Change the index to [1] for User Name if needed\n",
    "\n",
    "# Apply the function to clean up each column\n",
    "df['user_id'] = df['user_id'].apply(clean_values)\n",
    "df['user_name'] = df['user_name'].apply(clean_values)\n",
    "df['review_id'] = df['review_id'].apply(clean_values)\n",
    "df['review_title'] = df['review_title'].apply(clean_values)"
   ]
  },
  {
   "cell_type": "code",
   "execution_count": 104,
   "id": "aa05182f-b1e8-43f0-9d01-11fcc1d9b286",
   "metadata": {},
   "outputs": [
    {
     "data": {
      "text/html": [
       "<div>\n",
       "<style scoped>\n",
       "    .dataframe tbody tr th:only-of-type {\n",
       "        vertical-align: middle;\n",
       "    }\n",
       "\n",
       "    .dataframe tbody tr th {\n",
       "        vertical-align: top;\n",
       "    }\n",
       "\n",
       "    .dataframe thead th {\n",
       "        text-align: right;\n",
       "    }\n",
       "</style>\n",
       "<table border=\"1\" class=\"dataframe\">\n",
       "  <thead>\n",
       "    <tr style=\"text-align: right;\">\n",
       "      <th></th>\n",
       "      <th>product_id</th>\n",
       "      <th>product_name</th>\n",
       "      <th>category</th>\n",
       "      <th>discounted_price</th>\n",
       "      <th>actual_price</th>\n",
       "      <th>discount_percentage</th>\n",
       "      <th>rating</th>\n",
       "      <th>rating_count</th>\n",
       "      <th>about_product</th>\n",
       "      <th>user_id</th>\n",
       "      <th>user_name</th>\n",
       "      <th>review_id</th>\n",
       "      <th>review_title</th>\n",
       "      <th>review_content</th>\n",
       "      <th>img_link</th>\n",
       "      <th>product_link</th>\n",
       "      <th>review_length</th>\n",
       "    </tr>\n",
       "  </thead>\n",
       "  <tbody>\n",
       "    <tr>\n",
       "      <th>1020</th>\n",
       "      <td>B07QMRHWJD</td>\n",
       "      <td>SWAPKART Portable Flexible Adjustable Eye Prot...</td>\n",
       "      <td>Computers&amp;Accessories|Accessories&amp;Peripherals|...</td>\n",
       "      <td>298.000</td>\n",
       "      <td>999.000</td>\n",
       "      <td>0.700</td>\n",
       "      <td>4.3</td>\n",
       "      <td>1552.000</td>\n",
       "      <td>14 Highlight LED Lamp,super bright white light...</td>\n",
       "      <td>AETGW4KBMIJPPNVLPKB7R7O3FSQQ</td>\n",
       "      <td>Bhawna</td>\n",
       "      <td>RTNU6RMF947TL</td>\n",
       "      <td>Can be use as table lamp or emergency light fo...</td>\n",
       "      <td>bright enough to read in close proximity, can ...</td>\n",
       "      <td>https://m.media-amazon.com/images/I/41d-eh65JL...</td>\n",
       "      <td>https://www.amazon.in/SWAPKART-Portable-Readin...</td>\n",
       "      <td>1048</td>\n",
       "    </tr>\n",
       "    <tr>\n",
       "      <th>541</th>\n",
       "      <td>B0B7DHSKS7</td>\n",
       "      <td>Nokia 8210 4G Volte keypad Phone with Dual SIM...</td>\n",
       "      <td>Electronics|Mobiles&amp;Accessories|Smartphones&amp;Ba...</td>\n",
       "      <td>3799.000</td>\n",
       "      <td>5299.000</td>\n",
       "      <td>0.280</td>\n",
       "      <td>3.5</td>\n",
       "      <td>1641.000</td>\n",
       "      <td>The classic Nokia 8210 redesigned &amp; redefined ...</td>\n",
       "      <td>AHJTLVVBATTLS7X3LPKL2MVJM6VQ</td>\n",
       "      <td>Shyam</td>\n",
       "      <td>R3T70N2JGTAPV2</td>\n",
       "      <td>Good to use as a secondary mobile</td>\n",
       "      <td>Network reception is not that great.  People w...</td>\n",
       "      <td>https://m.media-amazon.com/images/I/41tRgeQp9-...</td>\n",
       "      <td>https://www.amazon.in/Nokia-8210-4G-Display-Wi...</td>\n",
       "      <td>3508</td>\n",
       "    </tr>\n",
       "    <tr>\n",
       "      <th>1102</th>\n",
       "      <td>B00F159RIK</td>\n",
       "      <td>Bajaj DX-2 600W Dry Iron with Advance Soleplat...</td>\n",
       "      <td>Home&amp;Kitchen|Kitchen&amp;HomeAppliances|Vacuum,Cle...</td>\n",
       "      <td>499.000</td>\n",
       "      <td>625.000</td>\n",
       "      <td>0.200</td>\n",
       "      <td>4.2</td>\n",
       "      <td>5355.000</td>\n",
       "      <td>Non-stick coated sole plate|Super clean surfac...</td>\n",
       "      <td>AE3DRCI3U5PRSINPY2TZAU6JEWBA</td>\n",
       "      <td>Deepak Kumar</td>\n",
       "      <td>R2GGV4P4HG0X8B</td>\n",
       "      <td>Good  product</td>\n",
       "      <td>Nice product,Good,All Over Quolity is Good ver...</td>\n",
       "      <td>https://m.media-amazon.com/images/I/416ICdLhYG...</td>\n",
       "      <td>https://www.amazon.in/Bajaj-DX-600-Watts-Light...</td>\n",
       "      <td>272</td>\n",
       "    </tr>\n",
       "  </tbody>\n",
       "</table>\n",
       "</div>"
      ],
      "text/plain": [
       "      product_id                                       product_name  \\\n",
       "1020  B07QMRHWJD  SWAPKART Portable Flexible Adjustable Eye Prot...   \n",
       "541   B0B7DHSKS7  Nokia 8210 4G Volte keypad Phone with Dual SIM...   \n",
       "1102  B00F159RIK  Bajaj DX-2 600W Dry Iron with Advance Soleplat...   \n",
       "\n",
       "                                               category  discounted_price  \\\n",
       "1020  Computers&Accessories|Accessories&Peripherals|...           298.000   \n",
       "541   Electronics|Mobiles&Accessories|Smartphones&Ba...          3799.000   \n",
       "1102  Home&Kitchen|Kitchen&HomeAppliances|Vacuum,Cle...           499.000   \n",
       "\n",
       "      actual_price  discount_percentage rating  rating_count  \\\n",
       "1020       999.000                0.700    4.3      1552.000   \n",
       "541       5299.000                0.280    3.5      1641.000   \n",
       "1102       625.000                0.200    4.2      5355.000   \n",
       "\n",
       "                                          about_product  \\\n",
       "1020  14 Highlight LED Lamp,super bright white light...   \n",
       "541   The classic Nokia 8210 redesigned & redefined ...   \n",
       "1102  Non-stick coated sole plate|Super clean surfac...   \n",
       "\n",
       "                           user_id     user_name       review_id  \\\n",
       "1020  AETGW4KBMIJPPNVLPKB7R7O3FSQQ        Bhawna   RTNU6RMF947TL   \n",
       "541   AHJTLVVBATTLS7X3LPKL2MVJM6VQ         Shyam  R3T70N2JGTAPV2   \n",
       "1102  AE3DRCI3U5PRSINPY2TZAU6JEWBA  Deepak Kumar  R2GGV4P4HG0X8B   \n",
       "\n",
       "                                           review_title  \\\n",
       "1020  Can be use as table lamp or emergency light fo...   \n",
       "541                   Good to use as a secondary mobile   \n",
       "1102                                      Good  product   \n",
       "\n",
       "                                         review_content  \\\n",
       "1020  bright enough to read in close proximity, can ...   \n",
       "541   Network reception is not that great.  People w...   \n",
       "1102  Nice product,Good,All Over Quolity is Good ver...   \n",
       "\n",
       "                                               img_link  \\\n",
       "1020  https://m.media-amazon.com/images/I/41d-eh65JL...   \n",
       "541   https://m.media-amazon.com/images/I/41tRgeQp9-...   \n",
       "1102  https://m.media-amazon.com/images/I/416ICdLhYG...   \n",
       "\n",
       "                                           product_link  review_length  \n",
       "1020  https://www.amazon.in/SWAPKART-Portable-Readin...           1048  \n",
       "541   https://www.amazon.in/Nokia-8210-4G-Display-Wi...           3508  \n",
       "1102  https://www.amazon.in/Bajaj-DX-600-Watts-Light...            272  "
      ]
     },
     "execution_count": 104,
     "metadata": {},
     "output_type": "execute_result"
    }
   ],
   "source": [
    "df.sample(3)"
   ]
  },
  {
   "cell_type": "code",
   "execution_count": 105,
   "id": "579bfe2a-3f25-4d05-8f8e-5db6d3679092",
   "metadata": {},
   "outputs": [
    {
     "data": {
      "text/plain": [
       "product_id             0\n",
       "product_name           0\n",
       "category               0\n",
       "discounted_price       0\n",
       "actual_price           0\n",
       "discount_percentage    0\n",
       "rating                 0\n",
       "rating_count           2\n",
       "about_product          0\n",
       "user_id                0\n",
       "user_name              0\n",
       "review_id              0\n",
       "review_title           0\n",
       "review_content         0\n",
       "img_link               0\n",
       "product_link           0\n",
       "review_length          0\n",
       "dtype: int64"
      ]
     },
     "execution_count": 105,
     "metadata": {},
     "output_type": "execute_result"
    }
   ],
   "source": [
    "df.isnull().sum()"
   ]
  },
  {
   "cell_type": "code",
   "execution_count": 106,
   "id": "6c9429df-15fd-4fe3-8c6c-f8420d0923af",
   "metadata": {},
   "outputs": [],
   "source": [
    "df = df.dropna()"
   ]
  },
  {
   "cell_type": "code",
   "execution_count": 107,
   "id": "74b0d3c7-8a42-45c8-a11f-b570a05189dc",
   "metadata": {},
   "outputs": [],
   "source": [
    "main_feature4m_df = df[['user_id', 'product_id', 'product_name', 'about_product','user_name', 'category', 'rating', \n",
    "                        'rating_count', 'discounted_price', 'actual_price','review_id', 'review_title', 'review_content']]"
   ]
  },
  {
   "cell_type": "code",
   "execution_count": 108,
   "id": "4f3c9774-e3a0-4abc-a494-b03f1fcb6309",
   "metadata": {},
   "outputs": [
    {
     "data": {
      "text/plain": [
       "array(['4.2', '4.0', '3.9', '4.1', '4.3', '4.4', '4.5', '3.7', '3.3',\n",
       "       '3.6', '3.4', '3.8', '3.5', '4.6', '3.2', '5.0', '4.7', '3.0',\n",
       "       '2.8', '4', '3.1', '4.8', '2.3', '|', '2', '3', '2.6', '2.9'],\n",
       "      dtype=object)"
      ]
     },
     "execution_count": 108,
     "metadata": {},
     "output_type": "execute_result"
    }
   ],
   "source": [
    "main_feature4m_df.rating.unique()"
   ]
  },
  {
   "cell_type": "code",
   "execution_count": 109,
   "id": "d5f3ceba-dd74-48b8-8941-9e71b869cf38",
   "metadata": {},
   "outputs": [
    {
     "data": {
      "text/plain": [
       "(1463, 13)"
      ]
     },
     "execution_count": 109,
     "metadata": {},
     "output_type": "execute_result"
    }
   ],
   "source": [
    "main_feature4m_df.shape"
   ]
  },
  {
   "cell_type": "code",
   "execution_count": 110,
   "id": "7e451988-0625-4ddb-8738-3335cdf08055",
   "metadata": {},
   "outputs": [
    {
     "data": {
      "text/plain": [
       "(1462, 13)"
      ]
     },
     "execution_count": 110,
     "metadata": {},
     "output_type": "execute_result"
    }
   ],
   "source": [
    "main_feature4m_df = main_feature4m_df[main_feature4m_df['rating'] != '|']\n",
    "main_feature4m_df.shape"
   ]
  },
  {
   "cell_type": "code",
   "execution_count": 111,
   "id": "11fc1fd3-6e07-40ce-b561-a24e52208850",
   "metadata": {},
   "outputs": [
    {
     "data": {
      "text/plain": [
       "user_id              object\n",
       "product_id           object\n",
       "product_name         object\n",
       "about_product        object\n",
       "user_name            object\n",
       "category             object\n",
       "rating               object\n",
       "rating_count        float64\n",
       "discounted_price    float64\n",
       "actual_price        float64\n",
       "review_id            object\n",
       "review_title         object\n",
       "review_content       object\n",
       "dtype: object"
      ]
     },
     "execution_count": 111,
     "metadata": {},
     "output_type": "execute_result"
    }
   ],
   "source": [
    "main_feature4m_df.dtypes"
   ]
  },
  {
   "cell_type": "code",
   "execution_count": 112,
   "id": "6ae24f26-7c6a-4ddc-93b7-d39343eb0e3d",
   "metadata": {},
   "outputs": [],
   "source": [
    "# Convertir la columna 'rating' a tipo de dato float\n",
    "main_feature4m_df['rating'] = main_feature4m_df['rating'].astype(float)"
   ]
  },
  {
   "cell_type": "code",
   "execution_count": 113,
   "id": "5b066606-6e1d-461f-abca-a20952589c51",
   "metadata": {},
   "outputs": [],
   "source": [
    "# Convertir 'rating_count' a string y luego eliminar comas y convertir a float\n",
    "main_feature4m_df['rating_count'] = main_feature4m_df['rating_count'].astype(str).str.replace(\",\", '')  \n",
    "main_feature4m_df['rating_count'] = main_feature4m_df['rating_count'].astype('float64')  "
   ]
  },
  {
   "cell_type": "code",
   "execution_count": 114,
   "id": "858d16af-e7dd-4c4c-a2ef-68060907c476",
   "metadata": {},
   "outputs": [],
   "source": [
    "# Convertir 'discounted_price' a string, eliminar símbolo ₹ y comas, y luego convertir a float\n",
    "main_feature4m_df['discounted_price'] = main_feature4m_df['discounted_price'].astype(str).str.replace(\"₹\", '').str.replace(\",\", '')\n",
    "main_feature4m_df['discounted_price'] = main_feature4m_df['discounted_price'].astype('float64')"
   ]
  },
  {
   "cell_type": "code",
   "execution_count": 115,
   "id": "280d54e0-5e0f-47be-8d71-07af6fc07bd4",
   "metadata": {},
   "outputs": [],
   "source": [
    "# Convertir 'actual_price' a string, eliminar símbolo ₹ y comas, y luego convertir a float\n",
    "main_feature4m_df['actual_price'] = main_feature4m_df['actual_price'].astype(str).str.replace(\"₹\", '').str.replace(\",\", '')\n",
    "main_feature4m_df['actual_price'] = main_feature4m_df['actual_price'].astype('float64')"
   ]
  },
  {
   "cell_type": "code",
   "execution_count": 116,
   "id": "5c76cc39-d375-482d-af3f-e06529b624b6",
   "metadata": {},
   "outputs": [],
   "source": [
    "# Convertir otras columnas a tipo de dato string\n",
    "main_feature4m_df['user_id'] = main_feature4m_df['user_id'].astype(str)\n",
    "main_feature4m_df['product_id'] = main_feature4m_df['product_id'].astype(str)"
   ]
  },
  {
   "cell_type": "code",
   "execution_count": 117,
   "id": "a7ae2e92-29c9-410b-850f-201c3b62f50b",
   "metadata": {},
   "outputs": [],
   "source": [
    "main_feature4m_df['category'] = main_feature4m_df['category'].astype(str)\n",
    "main_feature4m_df['product_name'] = main_feature4m_df['product_name'].astype(str)\n",
    "main_feature4m_df['about_product'] = main_feature4m_df['about_product'].astype(str)"
   ]
  },
  {
   "cell_type": "code",
   "execution_count": 118,
   "id": "4f9948f4-20ee-4884-9f14-5bb05f3e007e",
   "metadata": {},
   "outputs": [],
   "source": [
    "main_feature4m_df['review_title'] = main_feature4m_df['review_title'].astype(str)\n",
    "main_feature4m_df['review_content'] = main_feature4m_df['review_content'].astype(str)"
   ]
  },
  {
   "cell_type": "code",
   "execution_count": 119,
   "id": "4fec53b8-c093-4066-aafe-ae43df70a219",
   "metadata": {},
   "outputs": [
    {
     "name": "stdout",
     "output_type": "stream",
     "text": [
      "user_id              object\n",
      "product_id           object\n",
      "product_name         object\n",
      "about_product        object\n",
      "user_name            object\n",
      "category             object\n",
      "rating              float64\n",
      "rating_count        float64\n",
      "discounted_price    float64\n",
      "actual_price        float64\n",
      "review_id            object\n",
      "review_title         object\n",
      "review_content       object\n",
      "dtype: object\n"
     ]
    }
   ],
   "source": [
    "print(main_feature4m_df.dtypes)"
   ]
  },
  {
   "cell_type": "code",
   "execution_count": 120,
   "id": "a9c31f41-466a-4a2e-95d1-1e5bf9eb33ee",
   "metadata": {},
   "outputs": [
    {
     "data": {
      "text/plain": [
       "0    Computers&Accessories|Accessories&Peripherals|...\n",
       "1    Computers&Accessories|Accessories&Peripherals|...\n",
       "2    Computers&Accessories|Accessories&Peripherals|...\n",
       "Name: category, dtype: object"
      ]
     },
     "execution_count": 120,
     "metadata": {},
     "output_type": "execute_result"
    }
   ],
   "source": [
    "main_feature4m_df['category'].head(3)"
   ]
  },
  {
   "cell_type": "code",
   "execution_count": 121,
   "id": "bcd2fdd9-3c57-4e7a-bcb1-4be08ed0c593",
   "metadata": {},
   "outputs": [
    {
     "data": {
      "text/html": [
       "<div>\n",
       "<style scoped>\n",
       "    .dataframe tbody tr th:only-of-type {\n",
       "        vertical-align: middle;\n",
       "    }\n",
       "\n",
       "    .dataframe tbody tr th {\n",
       "        vertical-align: top;\n",
       "    }\n",
       "\n",
       "    .dataframe thead th {\n",
       "        text-align: right;\n",
       "    }\n",
       "</style>\n",
       "<table border=\"1\" class=\"dataframe\">\n",
       "  <thead>\n",
       "    <tr style=\"text-align: right;\">\n",
       "      <th></th>\n",
       "      <th>0</th>\n",
       "      <th>1</th>\n",
       "      <th>2</th>\n",
       "      <th>3</th>\n",
       "      <th>4</th>\n",
       "      <th>5</th>\n",
       "      <th>6</th>\n",
       "    </tr>\n",
       "  </thead>\n",
       "  <tbody>\n",
       "    <tr>\n",
       "      <th>0</th>\n",
       "      <td>Computers&amp;Accessories</td>\n",
       "      <td>Accessories&amp;Peripherals</td>\n",
       "      <td>Cables&amp;Accessories</td>\n",
       "      <td>Cables</td>\n",
       "      <td>USBCables</td>\n",
       "      <td>None</td>\n",
       "      <td>None</td>\n",
       "    </tr>\n",
       "    <tr>\n",
       "      <th>1</th>\n",
       "      <td>Computers&amp;Accessories</td>\n",
       "      <td>Accessories&amp;Peripherals</td>\n",
       "      <td>Cables&amp;Accessories</td>\n",
       "      <td>Cables</td>\n",
       "      <td>USBCables</td>\n",
       "      <td>None</td>\n",
       "      <td>None</td>\n",
       "    </tr>\n",
       "    <tr>\n",
       "      <th>2</th>\n",
       "      <td>Computers&amp;Accessories</td>\n",
       "      <td>Accessories&amp;Peripherals</td>\n",
       "      <td>Cables&amp;Accessories</td>\n",
       "      <td>Cables</td>\n",
       "      <td>USBCables</td>\n",
       "      <td>None</td>\n",
       "      <td>None</td>\n",
       "    </tr>\n",
       "    <tr>\n",
       "      <th>3</th>\n",
       "      <td>Computers&amp;Accessories</td>\n",
       "      <td>Accessories&amp;Peripherals</td>\n",
       "      <td>Cables&amp;Accessories</td>\n",
       "      <td>Cables</td>\n",
       "      <td>USBCables</td>\n",
       "      <td>None</td>\n",
       "      <td>None</td>\n",
       "    </tr>\n",
       "    <tr>\n",
       "      <th>4</th>\n",
       "      <td>Computers&amp;Accessories</td>\n",
       "      <td>Accessories&amp;Peripherals</td>\n",
       "      <td>Cables&amp;Accessories</td>\n",
       "      <td>Cables</td>\n",
       "      <td>USBCables</td>\n",
       "      <td>None</td>\n",
       "      <td>None</td>\n",
       "    </tr>\n",
       "    <tr>\n",
       "      <th>...</th>\n",
       "      <td>...</td>\n",
       "      <td>...</td>\n",
       "      <td>...</td>\n",
       "      <td>...</td>\n",
       "      <td>...</td>\n",
       "      <td>...</td>\n",
       "      <td>...</td>\n",
       "    </tr>\n",
       "    <tr>\n",
       "      <th>1460</th>\n",
       "      <td>Home&amp;Kitchen</td>\n",
       "      <td>Kitchen&amp;HomeAppliances</td>\n",
       "      <td>WaterPurifiers&amp;Accessories</td>\n",
       "      <td>WaterPurifierAccessories</td>\n",
       "      <td>None</td>\n",
       "      <td>None</td>\n",
       "      <td>None</td>\n",
       "    </tr>\n",
       "    <tr>\n",
       "      <th>1461</th>\n",
       "      <td>Home&amp;Kitchen</td>\n",
       "      <td>Kitchen&amp;HomeAppliances</td>\n",
       "      <td>SmallKitchenAppliances</td>\n",
       "      <td>Rice&amp;PastaCookers</td>\n",
       "      <td>None</td>\n",
       "      <td>None</td>\n",
       "      <td>None</td>\n",
       "    </tr>\n",
       "    <tr>\n",
       "      <th>1462</th>\n",
       "      <td>Home&amp;Kitchen</td>\n",
       "      <td>Heating,Cooling&amp;AirQuality</td>\n",
       "      <td>RoomHeaters</td>\n",
       "      <td>HeatConvectors</td>\n",
       "      <td>None</td>\n",
       "      <td>None</td>\n",
       "      <td>None</td>\n",
       "    </tr>\n",
       "    <tr>\n",
       "      <th>1463</th>\n",
       "      <td>Home&amp;Kitchen</td>\n",
       "      <td>Heating,Cooling&amp;AirQuality</td>\n",
       "      <td>Fans</td>\n",
       "      <td>ExhaustFans</td>\n",
       "      <td>None</td>\n",
       "      <td>None</td>\n",
       "      <td>None</td>\n",
       "    </tr>\n",
       "    <tr>\n",
       "      <th>1464</th>\n",
       "      <td>Home&amp;Kitchen</td>\n",
       "      <td>Kitchen&amp;HomeAppliances</td>\n",
       "      <td>SmallKitchenAppliances</td>\n",
       "      <td>SandwichMakers</td>\n",
       "      <td>None</td>\n",
       "      <td>None</td>\n",
       "      <td>None</td>\n",
       "    </tr>\n",
       "  </tbody>\n",
       "</table>\n",
       "<p>1462 rows × 7 columns</p>\n",
       "</div>"
      ],
      "text/plain": [
       "                          0                           1  \\\n",
       "0     Computers&Accessories     Accessories&Peripherals   \n",
       "1     Computers&Accessories     Accessories&Peripherals   \n",
       "2     Computers&Accessories     Accessories&Peripherals   \n",
       "3     Computers&Accessories     Accessories&Peripherals   \n",
       "4     Computers&Accessories     Accessories&Peripherals   \n",
       "...                     ...                         ...   \n",
       "1460           Home&Kitchen      Kitchen&HomeAppliances   \n",
       "1461           Home&Kitchen      Kitchen&HomeAppliances   \n",
       "1462           Home&Kitchen  Heating,Cooling&AirQuality   \n",
       "1463           Home&Kitchen  Heating,Cooling&AirQuality   \n",
       "1464           Home&Kitchen      Kitchen&HomeAppliances   \n",
       "\n",
       "                               2                         3          4     5  \\\n",
       "0             Cables&Accessories                    Cables  USBCables  None   \n",
       "1             Cables&Accessories                    Cables  USBCables  None   \n",
       "2             Cables&Accessories                    Cables  USBCables  None   \n",
       "3             Cables&Accessories                    Cables  USBCables  None   \n",
       "4             Cables&Accessories                    Cables  USBCables  None   \n",
       "...                          ...                       ...        ...   ...   \n",
       "1460  WaterPurifiers&Accessories  WaterPurifierAccessories       None  None   \n",
       "1461      SmallKitchenAppliances         Rice&PastaCookers       None  None   \n",
       "1462                 RoomHeaters            HeatConvectors       None  None   \n",
       "1463                        Fans               ExhaustFans       None  None   \n",
       "1464      SmallKitchenAppliances            SandwichMakers       None  None   \n",
       "\n",
       "         6  \n",
       "0     None  \n",
       "1     None  \n",
       "2     None  \n",
       "3     None  \n",
       "4     None  \n",
       "...    ...  \n",
       "1460  None  \n",
       "1461  None  \n",
       "1462  None  \n",
       "1463  None  \n",
       "1464  None  \n",
       "\n",
       "[1462 rows x 7 columns]"
      ]
     },
     "execution_count": 121,
     "metadata": {},
     "output_type": "execute_result"
    }
   ],
   "source": [
    "nw_cat = main_feature4m_df['category'].str.split('|', expand=True)\n",
    "nw_cat"
   ]
  },
  {
   "cell_type": "code",
   "execution_count": 122,
   "id": "64b1c18b-1734-4dde-af5d-401dbc1f1a13",
   "metadata": {},
   "outputs": [],
   "source": [
    "# adding the 2 new columns to the main dataframe\n",
    "nw_cat['category_1'] = nw_cat[0]\n",
    "nw_cat['category_2'] = nw_cat[1]"
   ]
  },
  {
   "cell_type": "code",
   "execution_count": 123,
   "id": "6f4884f4-8cea-4482-bf64-a93ca51e59a9",
   "metadata": {},
   "outputs": [],
   "source": [
    "main_feature4m_df.drop('category', axis=1, inplace=True)\n",
    "main_feature4m_df['category_1'] = nw_cat['category_1']\n",
    "main_feature4m_df['category_2'] = nw_cat['category_2']"
   ]
  },
  {
   "cell_type": "code",
   "execution_count": 124,
   "id": "375ef4c8-890c-49ee-b4e9-2bbb20685eef",
   "metadata": {},
   "outputs": [
    {
     "data": {
      "text/plain": [
       "Electronics              526\n",
       "Computers&Accessories    451\n",
       "Home&Kitchen             447\n",
       "OfficeProducts            31\n",
       "MusicalInstruments         2\n",
       "HomeImprovement            2\n",
       "Toys&Games                 1\n",
       "Car&Motorbike              1\n",
       "Health&PersonalCare        1\n",
       "Name: category_1, dtype: int64"
      ]
     },
     "execution_count": 124,
     "metadata": {},
     "output_type": "execute_result"
    }
   ],
   "source": [
    "main_feature4m_df[\"category_1\"].value_counts()"
   ]
  },
  {
   "cell_type": "code",
   "execution_count": 125,
   "id": "10e60290-c51e-4fcb-a4c7-ba3f524412ad",
   "metadata": {},
   "outputs": [
    {
     "data": {
      "text/plain": [
       "Accessories&Peripherals                    379\n",
       "Kitchen&HomeAppliances                     307\n",
       "HomeTheater,TV&Video                       162\n",
       "Mobiles&Accessories                        161\n",
       "Heating,Cooling&AirQuality                 116\n",
       "WearableTechnology                          76\n",
       "Headphones,Earbuds&Accessories              66\n",
       "NetworkingDevices                           34\n",
       "OfficePaperProducts                         27\n",
       "ExternalDevices&DataStorage                 18\n",
       "Cameras&Photography                         16\n",
       "HomeStorage&Organization                    16\n",
       "HomeAudio                                   16\n",
       "GeneralPurposeBatteries&BatteryChargers     14\n",
       "Accessories                                 14\n",
       "Printers,Inks&Accessories                   11\n",
       "CraftMaterials                               7\n",
       "Components                                   5\n",
       "OfficeElectronics                            4\n",
       "Electrical                                   2\n",
       "Monitors                                     2\n",
       "Microphones                                  2\n",
       "Arts&Crafts                                  1\n",
       "PowerAccessories                             1\n",
       "Tablets                                      1\n",
       "Laptops                                      1\n",
       "Kitchen&Dining                               1\n",
       "CarAccessories                               1\n",
       "HomeMedicalSupplies&Equipment                1\n",
       "Name: category_2, dtype: int64"
      ]
     },
     "execution_count": 125,
     "metadata": {},
     "output_type": "execute_result"
    }
   ],
   "source": [
    "main_feature4m_df[\"category_2\"].value_counts()"
   ]
  },
  {
   "cell_type": "code",
   "execution_count": 126,
   "id": "8d371d64-d1ac-4779-8b27-9b5d829d8d41",
   "metadata": {},
   "outputs": [
    {
     "data": {
      "text/plain": [
       "user_id             0\n",
       "product_id          0\n",
       "product_name        0\n",
       "about_product       0\n",
       "user_name           0\n",
       "rating              0\n",
       "rating_count        0\n",
       "discounted_price    0\n",
       "actual_price        0\n",
       "review_id           0\n",
       "review_title        0\n",
       "review_content      0\n",
       "category_1          0\n",
       "category_2          0\n",
       "dtype: int64"
      ]
     },
     "execution_count": 126,
     "metadata": {},
     "output_type": "execute_result"
    }
   ],
   "source": [
    "main_feature4m_df.isna().sum()"
   ]
  },
  {
   "cell_type": "code",
   "execution_count": 127,
   "id": "dcdd5fa3-2825-46f9-87ed-dc158aa872a2",
   "metadata": {},
   "outputs": [],
   "source": [
    "main_feature4m_df['category_1'] = main_feature4m_df['category_1'].str.replace('&', 'and')\n",
    "main_feature4m_df['category_1'] = main_feature4m_df['category_1'].str.replace('OfficeProducts', 'Office Products')\n",
    "main_feature4m_df['category_1'] = main_feature4m_df['category_1'].str.replace('MusicalInstruments', 'Musical Instruments')\n",
    "main_feature4m_df['category_1'] = main_feature4m_df['category_1'].str.replace('HomeImprovement', 'Home Improvement')\n",
    "\n",
    "main_feature4m_df['category_2'] = main_feature4m_df['category_2'].str.replace('&', 'and')\n",
    "main_feature4m_df['category_2'] = main_feature4m_df['category_2'].str.replace(',', ', ')\n",
    "main_feature4m_df['category_2'] = main_feature4m_df['category_2'].str.replace('HomeAppliances', 'Home Appliances')\n",
    "main_feature4m_df['category_2'] = main_feature4m_df['category_2'].str.replace('AirQuality', 'Air Quality')\n",
    "main_feature4m_df['category_2'] = main_feature4m_df['category_2'].str.replace('WearableTechnology', 'Wearable Technology')\n",
    "main_feature4m_df['category_2'] = main_feature4m_df['category_2'].str.replace('NetworkingDevices', 'Networking Devices')\n",
    "main_feature4m_df['category_2'] = main_feature4m_df['category_2'].str.replace('OfficePaperProducts', 'Office Paper Products')\n",
    "main_feature4m_df['category_2'] = main_feature4m_df['category_2'].str.replace('ExternalDevices', 'External Devices')\n",
    "main_feature4m_df['category_2'] = main_feature4m_df['category_2'].str.replace('DataStorage', 'Data Storage')\n",
    "main_feature4m_df['category_2'] = main_feature4m_df['category_2'].str.replace('HomeStorage', 'Home Storage')\n",
    "main_feature4m_df['category_2'] = main_feature4m_df['category_2'].str.replace('HomeAudio', 'Home Audio')\n",
    "main_feature4m_df['category_2'] = main_feature4m_df['category_2'].str.replace('GeneralPurposeBatteries', 'General Purpose Batteries')\n",
    "main_feature4m_df['category_2'] = main_feature4m_df['category_2'].str.replace('BatteryChargers', 'Battery Chargers')\n",
    "main_feature4m_df['category_2'] = main_feature4m_df['category_2'].str.replace('CraftMaterials', 'Craft Materials')\n",
    "main_feature4m_df['category_2'] = main_feature4m_df['category_2'].str.replace('OfficeElectronics', 'Office Electronics')\n",
    "main_feature4m_df['category_2'] = main_feature4m_df['category_2'].str.replace('PowerAccessories', 'Power Accessories')\n",
    "main_feature4m_df['category_2'] = main_feature4m_df['category_2'].str.replace('CarAccessories', 'Car Accessories')\n",
    "main_feature4m_df['category_2'] = main_feature4m_df['category_2'].str.replace('HomeMedicalSupplies', 'Home Medical Supplies')\n",
    "main_feature4m_df['category_2'] = main_feature4m_df['category_2'].str.replace('HomeTheater', 'Home Theater')"
   ]
  },
  {
   "cell_type": "code",
   "execution_count": 128,
   "id": "0e8937c8-9ced-49ea-9fca-2809622c779a",
   "metadata": {},
   "outputs": [
    {
     "data": {
      "text/html": [
       "<div>\n",
       "<style scoped>\n",
       "    .dataframe tbody tr th:only-of-type {\n",
       "        vertical-align: middle;\n",
       "    }\n",
       "\n",
       "    .dataframe tbody tr th {\n",
       "        vertical-align: top;\n",
       "    }\n",
       "\n",
       "    .dataframe thead th {\n",
       "        text-align: right;\n",
       "    }\n",
       "</style>\n",
       "<table border=\"1\" class=\"dataframe\">\n",
       "  <thead>\n",
       "    <tr style=\"text-align: right;\">\n",
       "      <th></th>\n",
       "      <th>user_id</th>\n",
       "      <th>product_id</th>\n",
       "      <th>product_name</th>\n",
       "      <th>about_product</th>\n",
       "      <th>user_name</th>\n",
       "      <th>rating</th>\n",
       "      <th>rating_count</th>\n",
       "      <th>discounted_price</th>\n",
       "      <th>actual_price</th>\n",
       "      <th>review_id</th>\n",
       "      <th>review_title</th>\n",
       "      <th>review_content</th>\n",
       "      <th>category_1</th>\n",
       "      <th>category_2</th>\n",
       "    </tr>\n",
       "  </thead>\n",
       "  <tbody>\n",
       "    <tr>\n",
       "      <th>356</th>\n",
       "      <td>AG3SQH676VN5EH4NDNGVVLML6RZQ</td>\n",
       "      <td>B08HVL8QN3</td>\n",
       "      <td>Mi 10000mAH Li-Polymer, Micro-USB and Type C I...</td>\n",
       "      <td>Warranty : 6 months domestic warranty|Warranty...</td>\n",
       "      <td>Mahesh Paryani</td>\n",
       "      <td>4.300</td>\n",
       "      <td>178912.000</td>\n",
       "      <td>1149.000</td>\n",
       "      <td>2199.000</td>\n",
       "      <td>R31BXRU0GAOB26</td>\n",
       "      <td>Ok product to buy</td>\n",
       "      <td>I haven’t used any other battery pack so will ...</td>\n",
       "      <td>Electronics</td>\n",
       "      <td>MobilesandAccessories</td>\n",
       "    </tr>\n",
       "    <tr>\n",
       "      <th>790</th>\n",
       "      <td>AEDKNRNG6YV7UXI72VNLX4DK3XMA</td>\n",
       "      <td>B00J4YG0PC</td>\n",
       "      <td>Classmate Long Notebook - 140 Pages, Single Li...</td>\n",
       "      <td>The cover design of the notebook is subject to...</td>\n",
       "      <td>MOHD NASIM</td>\n",
       "      <td>4.400</td>\n",
       "      <td>3182.000</td>\n",
       "      <td>561.000</td>\n",
       "      <td>720.000</td>\n",
       "      <td>RSB9VP4KY975L</td>\n",
       "      <td>Good 👍</td>\n",
       "      <td>All good,Product is Good,i love the Notebook ....</td>\n",
       "      <td>Office Products</td>\n",
       "      <td>Office Paper Products</td>\n",
       "    </tr>\n",
       "    <tr>\n",
       "      <th>1031</th>\n",
       "      <td>AGYJ6QNPZV2B6GT2AC4MVSENRPQQ</td>\n",
       "      <td>B01MQZ7J8K</td>\n",
       "      <td>Prestige Electric Kettle PKOSS - 1500watts, St...</td>\n",
       "      <td>Max 3 differentiators Great Features - i)Autom...</td>\n",
       "      <td>dgp raju</td>\n",
       "      <td>3.900</td>\n",
       "      <td>63350.000</td>\n",
       "      <td>749.000</td>\n",
       "      <td>1445.000</td>\n",
       "      <td>R2HZ5T2XT2798Y</td>\n",
       "      <td>Very nice</td>\n",
       "      <td>Good product,Working good. Water is boiling wi...</td>\n",
       "      <td>HomeandKitchen</td>\n",
       "      <td>KitchenandHome Appliances</td>\n",
       "    </tr>\n",
       "  </tbody>\n",
       "</table>\n",
       "</div>"
      ],
      "text/plain": [
       "                           user_id  product_id  \\\n",
       "356   AG3SQH676VN5EH4NDNGVVLML6RZQ  B08HVL8QN3   \n",
       "790   AEDKNRNG6YV7UXI72VNLX4DK3XMA  B00J4YG0PC   \n",
       "1031  AGYJ6QNPZV2B6GT2AC4MVSENRPQQ  B01MQZ7J8K   \n",
       "\n",
       "                                           product_name  \\\n",
       "356   Mi 10000mAH Li-Polymer, Micro-USB and Type C I...   \n",
       "790   Classmate Long Notebook - 140 Pages, Single Li...   \n",
       "1031  Prestige Electric Kettle PKOSS - 1500watts, St...   \n",
       "\n",
       "                                          about_product       user_name  \\\n",
       "356   Warranty : 6 months domestic warranty|Warranty...  Mahesh Paryani   \n",
       "790   The cover design of the notebook is subject to...      MOHD NASIM   \n",
       "1031  Max 3 differentiators Great Features - i)Autom...        dgp raju   \n",
       "\n",
       "      rating  rating_count  discounted_price  actual_price       review_id  \\\n",
       "356    4.300    178912.000          1149.000      2199.000  R31BXRU0GAOB26   \n",
       "790    4.400      3182.000           561.000       720.000   RSB9VP4KY975L   \n",
       "1031   3.900     63350.000           749.000      1445.000  R2HZ5T2XT2798Y   \n",
       "\n",
       "           review_title                                     review_content  \\\n",
       "356   Ok product to buy  I haven’t used any other battery pack so will ...   \n",
       "790              Good 👍  All good,Product is Good,i love the Notebook ....   \n",
       "1031          Very nice  Good product,Working good. Water is boiling wi...   \n",
       "\n",
       "           category_1                 category_2  \n",
       "356       Electronics      MobilesandAccessories  \n",
       "790   Office Products      Office Paper Products  \n",
       "1031   HomeandKitchen  KitchenandHome Appliances  "
      ]
     },
     "execution_count": 128,
     "metadata": {},
     "output_type": "execute_result"
    }
   ],
   "source": [
    "main_feature4m_df.sample(3)"
   ]
  },
  {
   "cell_type": "code",
   "execution_count": 129,
   "id": "9f6a03c8-6487-4265-b23b-c6b7d0fa1a6a",
   "metadata": {},
   "outputs": [],
   "source": [
    "import seaborn as sns\n",
    "import matplotlib.pyplot as plt\n"
   ]
  },
  {
   "cell_type": "code",
   "execution_count": 130,
   "id": "70a10abf-5755-4d76-876d-c25104689a54",
   "metadata": {},
   "outputs": [],
   "source": [
    "# Set the color palette\n",
    "sns.set_palette('bright')"
   ]
  },
  {
   "cell_type": "code",
   "execution_count": 131,
   "id": "de040193-aa25-4b46-b6fe-9f4b983c5dbf",
   "metadata": {},
   "outputs": [
    {
     "data": {
      "text/plain": [
       "Text(0.5, 0, 'Count')"
      ]
     },
     "execution_count": 131,
     "metadata": {},
     "output_type": "execute_result"
    },
    {
     "data": {
      "image/png": "[encoded data removed]",
      "text/plain": [
       "<Figure size 640x480 with 1 Axes>"
      ]
     },
     "metadata": {},
     "output_type": "display_data"
    }
   ],
   "source": [
    "# Plotting a bar chart of product categories\n",
    "plt.subplot(1, 2, 1)\n",
    "sns.countplot(data=main_feature4m_df, y='category_1')\n",
    "plt.title('Product Categories')\n",
    "plt.xlabel('Count') "
   ]
  },
  {
   "cell_type": "code",
   "execution_count": 132,
   "id": "fea52767-78cd-45f2-ab51-9da0f3f1a932",
   "metadata": {},
   "outputs": [
    {
     "data": {
      "text/plain": [
       "Text(0.5, 0, 'Count')"
      ]
     },
     "execution_count": 132,
     "metadata": {},
     "output_type": "execute_result"
    },
    {
     "data": {
      "image/png": "[encoded data removed]",
      "text/plain": [
       "<Figure size 1500x1500 with 1 Axes>"
      ]
     },
     "metadata": {},
     "output_type": "display_data"
    }
   ],
   "source": [
    "# Set the color palette\n",
    "sns.set_palette('bright')\n",
    "\n",
    "# Create multiple visualizations\n",
    "plt.figure(figsize=(15, 15))\n",
    "\n",
    "# Plotting a bar chart of product categories\n",
    "plt.subplot(1, 2, 1)\n",
    "sns.countplot(data=main_feature4m_df, y='category_2')\n",
    "plt.title('Product Categories')\n",
    "plt.xlabel('Count')"
   ]
  },
  {
   "cell_type": "code",
   "execution_count": 133,
   "id": "907ad310-a9d0-447f-9e61-b138c6b9d3f5",
   "metadata": {},
   "outputs": [
    {
     "data": {
      "image/png": "[encoded data removed]",
      "text/plain": [
       "<Figure size 1000x800 with 1 Axes>"
      ]
     },
     "metadata": {},
     "output_type": "display_data"
    }
   ],
   "source": [
    "import matplotlib.pyplot as plt\n",
    "import seaborn as sns\n",
    "\n",
    "plt.figure(figsize=(10, 8))\n",
    "sns.scatterplot(x='rating', y='discounted_price', data=main_feature4m_df)\n",
    "plt.title('rating vs. Discount Price')\n",
    "plt.show()"
   ]
  },
  {
   "cell_type": "code",
   "execution_count": 134,
   "id": "43e52f6a-38c2-4bf0-b329-62f923f8d177",
   "metadata": {
    "scrolled": true
   },
   "outputs": [
    {
     "data": {
      "image/png": "[encoded data removed]",
      "text/plain": [
       "<Figure size 1800x600 with 2 Axes>"
      ]
     },
     "metadata": {},
     "output_type": "display_data"
    }
   ],
   "source": [
    "fig, axes = plt.subplots(1, 2, figsize=(18, 6))\n",
    "\n",
    "# actual price vs rating\n",
    "sns.scatterplot(ax=axes[0], data=main_feature4m_df, x='actual_price', y='rating', size='rating_count', alpha=0.5)\n",
    "axes[0].set_title('Actual Price vs Rating')\n",
    "axes[0].set_xlabel('Actual Price')\n",
    "axes[0].set_ylabel('Average Rating')\n",
    "axes[0].set_xscale('log')\n",
    "axes[0].grid(True)\n",
    "\n",
    "# discounted price vs rating\n",
    "sns.scatterplot(ax=axes[1], data=main_feature4m_df, x='discounted_price', y='rating', size='rating_count', alpha=0.5)\n",
    "axes[1].set_title('Discounted Price vs Rating')\n",
    "axes[1].set_xlabel('Discounted Price')\n",
    "axes[1].set_ylabel('Average Rating')\n",
    "axes[1].set_xscale('log')  \n",
    "axes[1].grid(True)\n",
    "\n",
    "plt.show()"
   ]
  },
  {
   "cell_type": "markdown",
   "id": "32be7d2f-094c-4600-8034-459182f050f1",
   "metadata": {},
   "source": [
    "1. **FILTRO BASADO EN CONTENIDO**"
   ]
  },
  {
   "cell_type": "code",
   "execution_count": 135,
   "id": "982bf6f0-004b-4660-8a67-43d794be618b",
   "metadata": {},
   "outputs": [],
   "source": [
    "# Crear una nueva columna 'product_details' que combine el nombre del producto, la descripción y el contenido de las reseñas\n",
    "main_feature4m_df['product_details'] = main_feature4m_df['product_name']+' '+main_feature4m_df['about_product']+' '+main_feature4m_df['review_content']"
   ]
  },
  {
   "cell_type": "code",
   "execution_count": 136,
   "id": "b49f4b15-a6ed-4dbe-880f-923eac290f2a",
   "metadata": {},
   "outputs": [],
   "source": [
    "# Rellenar los valores nulos en 'product_details' con una cadena vacía\n",
    "main_feature4m_df['product_details'] = main_feature4m_df['product_details'].fillna('')"
   ]
  },
  {
   "cell_type": "code",
   "execution_count": 137,
   "id": "97bc4ebf-5ea2-4c16-973b-7b6f96b1e8d6",
   "metadata": {},
   "outputs": [],
   "source": [
    "from sklearn.feature_extraction.text import TfidfVectorizer\n",
    "# Crear un vectorizador TF-IDF para transformar el texto en una matriz de características\n",
    "tfidf_vec = TfidfVectorizer(stop_words='english',max_df=0.95,min_df=2,ngram_range=(1,1))\n",
    "tfidf_matrix = tfidf_vec.fit_transform(main_feature4m_df['product_details'])"
   ]
  },
  {
   "cell_type": "code",
   "execution_count": 138,
   "id": "4d7fb66a-39a7-4e6e-b62a-5c16ed2d1a8e",
   "metadata": {},
   "outputs": [
    {
     "data": {
      "text/plain": [
       "(1462, 10088)"
      ]
     },
     "execution_count": 138,
     "metadata": {},
     "output_type": "execute_result"
    }
   ],
   "source": [
    "tfidf_matrix.shape"
   ]
  },
  {
   "cell_type": "code",
   "execution_count": 139,
   "id": "e2f9a691-8c14-4f9e-af0e-3b96616294b3",
   "metadata": {},
   "outputs": [],
   "source": [
    "from sklearn.metrics.pairwise import linear_kernel\n",
    "# Calcular la similitud del coseno\n",
    "cosine_sim = linear_kernel(tfidf_matrix, tfidf_matrix)\n",
    "sim_score = 0\n",
    "\n",
    "# Definir una función para obtener recomendaciones basadas en el contenido\n",
    "def content_based_recommendations(product_id, data, cosine_sim, n=5):\n",
    "      # Encontrar el índice del producto en el DataFrame\n",
    "    idx = data[data['product_id'] == product_id].index[0]\n",
    "    # Obtener las puntuaciones de similitud del coseno para el producto especificado\n",
    "    sim_scores = list(enumerate(cosine_sim[idx]))\n",
    "     # Ordenar los productos por puntuación de similitud en orden descendente\n",
    "    sim_scores = sorted(sim_scores, key=lambda x: x[1], reverse=True)\n",
    "    # Seleccionar las 'n' mejores recomendaciones (excluyendo el producto mismo)\n",
    "    sim_scores = sim_scores[1:n+1]\n",
    "     # Obtener los índices de los productos recomendados\n",
    "    product_indices = [i[0] for i in sim_scores]\n",
    "    # Devolver los productos recomendados y sus puntuaciones de similitud\n",
    "    return data.iloc[product_indices], sim_scores\n",
    "\n",
    "# Obtener recomendaciones para el producto con 'product_id' = 'B09LHXNZLR'\n",
    "content_based_recommendations, p_sim_score = content_based_recommendations('B09LHXNZLR', main_feature4m_df, cosine_sim)"
   ]
  },
  {
   "cell_type": "code",
   "execution_count": 140,
   "id": "133564b9-1981-4ca6-b787-3bf169dd34d0",
   "metadata": {
    "scrolled": true
   },
   "outputs": [
    {
     "data": {
      "text/html": [
       "<div>\n",
       "<style scoped>\n",
       "    .dataframe tbody tr th:only-of-type {\n",
       "        vertical-align: middle;\n",
       "    }\n",
       "\n",
       "    .dataframe tbody tr th {\n",
       "        vertical-align: top;\n",
       "    }\n",
       "\n",
       "    .dataframe thead th {\n",
       "        text-align: right;\n",
       "    }\n",
       "</style>\n",
       "<table border=\"1\" class=\"dataframe\">\n",
       "  <thead>\n",
       "    <tr style=\"text-align: right;\">\n",
       "      <th></th>\n",
       "      <th>user_id</th>\n",
       "      <th>product_id</th>\n",
       "      <th>product_name</th>\n",
       "      <th>about_product</th>\n",
       "      <th>user_name</th>\n",
       "      <th>rating</th>\n",
       "      <th>rating_count</th>\n",
       "      <th>discounted_price</th>\n",
       "      <th>actual_price</th>\n",
       "      <th>review_id</th>\n",
       "      <th>review_title</th>\n",
       "      <th>review_content</th>\n",
       "      <th>category_1</th>\n",
       "      <th>category_2</th>\n",
       "      <th>product_details</th>\n",
       "    </tr>\n",
       "  </thead>\n",
       "  <tbody>\n",
       "    <tr>\n",
       "      <th>170</th>\n",
       "      <td>AGYAPOCHJTBVSKV3GSONJ7VXL3PA</td>\n",
       "      <td>B07M69276N</td>\n",
       "      <td>TP-Link AC1300 USB WiFi Adapter (Archer T3U) -...</td>\n",
       "      <td>Ultimate Wi-Fi Speed —— AC1300 (400 Mpbs on 2....</td>\n",
       "      <td>Shweta Bairagi</td>\n",
       "      <td>4.400</td>\n",
       "      <td>23169.000</td>\n",
       "      <td>1399.000</td>\n",
       "      <td>2499.000</td>\n",
       "      <td>R3WPIQCSIWIMK</td>\n",
       "      <td>Good device and makes your laptop to utilize m...</td>\n",
       "      <td>Good device and makes your laptop to utilize m...</td>\n",
       "      <td>ComputersandAccessories</td>\n",
       "      <td>Networking Devices</td>\n",
       "      <td>TP-Link AC1300 USB WiFi Adapter (Archer T3U) -...</td>\n",
       "    </tr>\n",
       "    <tr>\n",
       "      <th>303</th>\n",
       "      <td>AFWESPH2F54JGI3PJYU2NINBVCAQ</td>\n",
       "      <td>B08G43CCLC</td>\n",
       "      <td>NK STAR 950 Mbps USB WiFi Adapter Wireless Net...</td>\n",
       "      <td>[NOTE - &gt;&gt;Not Support to DVR and HDTV]..[CONNE...</td>\n",
       "      <td>Shivakumar</td>\n",
       "      <td>4.200</td>\n",
       "      <td>163.000</td>\n",
       "      <td>218.000</td>\n",
       "      <td>999.000</td>\n",
       "      <td>R34OST6S1F8457</td>\n",
       "      <td>Thank you</td>\n",
       "      <td>Valu money good quality products,Checked it, w...</td>\n",
       "      <td>ComputersandAccessories</td>\n",
       "      <td>Networking Devices</td>\n",
       "      <td>NK STAR 950 Mbps USB WiFi Adapter Wireless Net...</td>\n",
       "    </tr>\n",
       "    <tr>\n",
       "      <th>56</th>\n",
       "      <td>AGV3IEFANZCKECFGUM42MRH5FNOA</td>\n",
       "      <td>B0088TKTY2</td>\n",
       "      <td>TP-LINK WiFi Dongle 300 Mbps Mini Wireless Net...</td>\n",
       "      <td>300 Mbps Wi-Fi —— 300Mbps wireless speed ideal...</td>\n",
       "      <td>Azhar JuMan</td>\n",
       "      <td>4.200</td>\n",
       "      <td>179691.000</td>\n",
       "      <td>649.000</td>\n",
       "      <td>1399.000</td>\n",
       "      <td>R1LW6NWSVTVZ2H</td>\n",
       "      <td>Works on linux for me. Get the model with ante...</td>\n",
       "      <td>I use this to connect an old PC to internet. I...</td>\n",
       "      <td>ComputersandAccessories</td>\n",
       "      <td>Networking Devices</td>\n",
       "      <td>TP-LINK WiFi Dongle 300 Mbps Mini Wireless Net...</td>\n",
       "    </tr>\n",
       "    <tr>\n",
       "      <th>50</th>\n",
       "      <td>AHDFR3PDKEBV72HXRL3RJJLS3YYA</td>\n",
       "      <td>B07P681N66</td>\n",
       "      <td>TP-Link AC600 600 Mbps WiFi Wireless Network U...</td>\n",
       "      <td>High-Speed Wi-Fi —— 256QAM support increases t...</td>\n",
       "      <td>Anonymous</td>\n",
       "      <td>4.400</td>\n",
       "      <td>24780.000</td>\n",
       "      <td>1199.000</td>\n",
       "      <td>2199.000</td>\n",
       "      <td>R2GUL8IL005EGF</td>\n",
       "      <td>Works flawlessly on Ubuntu 22.04 (if installed...</td>\n",
       "      <td>I am using this on an old Mac Mini, since the ...</td>\n",
       "      <td>ComputersandAccessories</td>\n",
       "      <td>Networking Devices</td>\n",
       "      <td>TP-Link AC600 600 Mbps WiFi Wireless Network U...</td>\n",
       "    </tr>\n",
       "    <tr>\n",
       "      <th>894</th>\n",
       "      <td>AHDFR3PDKEBV72HXRL3RJJLS3YYA</td>\n",
       "      <td>B07P681N66</td>\n",
       "      <td>TP-Link AC600 600 Mbps WiFi Wireless Network U...</td>\n",
       "      <td>High-Speed Wi-Fi —— 256QAM support increases t...</td>\n",
       "      <td>Anonymous</td>\n",
       "      <td>4.400</td>\n",
       "      <td>24780.000</td>\n",
       "      <td>1199.000</td>\n",
       "      <td>2199.000</td>\n",
       "      <td>R2GUL8IL005EGF</td>\n",
       "      <td>Works flawlessly on Ubuntu 22.04 (if installed...</td>\n",
       "      <td>I am using this on an old Mac Mini, since the ...</td>\n",
       "      <td>ComputersandAccessories</td>\n",
       "      <td>Networking Devices</td>\n",
       "      <td>TP-Link AC600 600 Mbps WiFi Wireless Network U...</td>\n",
       "    </tr>\n",
       "  </tbody>\n",
       "</table>\n",
       "</div>"
      ],
      "text/plain": [
       "                          user_id  product_id  \\\n",
       "170  AGYAPOCHJTBVSKV3GSONJ7VXL3PA  B07M69276N   \n",
       "303  AFWESPH2F54JGI3PJYU2NINBVCAQ  B08G43CCLC   \n",
       "56   AGV3IEFANZCKECFGUM42MRH5FNOA  B0088TKTY2   \n",
       "50   AHDFR3PDKEBV72HXRL3RJJLS3YYA  B07P681N66   \n",
       "894  AHDFR3PDKEBV72HXRL3RJJLS3YYA  B07P681N66   \n",
       "\n",
       "                                          product_name  \\\n",
       "170  TP-Link AC1300 USB WiFi Adapter (Archer T3U) -...   \n",
       "303  NK STAR 950 Mbps USB WiFi Adapter Wireless Net...   \n",
       "56   TP-LINK WiFi Dongle 300 Mbps Mini Wireless Net...   \n",
       "50   TP-Link AC600 600 Mbps WiFi Wireless Network U...   \n",
       "894  TP-Link AC600 600 Mbps WiFi Wireless Network U...   \n",
       "\n",
       "                                         about_product       user_name  \\\n",
       "170  Ultimate Wi-Fi Speed —— AC1300 (400 Mpbs on 2....  Shweta Bairagi   \n",
       "303  [NOTE - >>Not Support to DVR and HDTV]..[CONNE...      Shivakumar   \n",
       "56   300 Mbps Wi-Fi —— 300Mbps wireless speed ideal...     Azhar JuMan   \n",
       "50   High-Speed Wi-Fi —— 256QAM support increases t...       Anonymous   \n",
       "894  High-Speed Wi-Fi —— 256QAM support increases t...       Anonymous   \n",
       "\n",
       "     rating  rating_count  discounted_price  actual_price       review_id  \\\n",
       "170   4.400     23169.000          1399.000      2499.000   R3WPIQCSIWIMK   \n",
       "303   4.200       163.000           218.000       999.000  R34OST6S1F8457   \n",
       "56    4.200    179691.000           649.000      1399.000  R1LW6NWSVTVZ2H   \n",
       "50    4.400     24780.000          1199.000      2199.000  R2GUL8IL005EGF   \n",
       "894   4.400     24780.000          1199.000      2199.000  R2GUL8IL005EGF   \n",
       "\n",
       "                                          review_title  \\\n",
       "170  Good device and makes your laptop to utilize m...   \n",
       "303                                          Thank you   \n",
       "56   Works on linux for me. Get the model with ante...   \n",
       "50   Works flawlessly on Ubuntu 22.04 (if installed...   \n",
       "894  Works flawlessly on Ubuntu 22.04 (if installed...   \n",
       "\n",
       "                                        review_content  \\\n",
       "170  Good device and makes your laptop to utilize m...   \n",
       "303  Valu money good quality products,Checked it, w...   \n",
       "56   I use this to connect an old PC to internet. I...   \n",
       "50   I am using this on an old Mac Mini, since the ...   \n",
       "894  I am using this on an old Mac Mini, since the ...   \n",
       "\n",
       "                  category_1          category_2  \\\n",
       "170  ComputersandAccessories  Networking Devices   \n",
       "303  ComputersandAccessories  Networking Devices   \n",
       "56   ComputersandAccessories  Networking Devices   \n",
       "50   ComputersandAccessories  Networking Devices   \n",
       "894  ComputersandAccessories  Networking Devices   \n",
       "\n",
       "                                       product_details  \n",
       "170  TP-Link AC1300 USB WiFi Adapter (Archer T3U) -...  \n",
       "303  NK STAR 950 Mbps USB WiFi Adapter Wireless Net...  \n",
       "56   TP-LINK WiFi Dongle 300 Mbps Mini Wireless Net...  \n",
       "50   TP-Link AC600 600 Mbps WiFi Wireless Network U...  \n",
       "894  TP-Link AC600 600 Mbps WiFi Wireless Network U...  "
      ]
     },
     "execution_count": 140,
     "metadata": {},
     "output_type": "execute_result"
    }
   ],
   "source": [
    "content_based_recommendations"
   ]
  },
  {
   "cell_type": "code",
   "execution_count": 141,
   "id": "4b8e275c-ca51-4571-a646-430e167060fa",
   "metadata": {},
   "outputs": [
    {
     "name": "stdout",
     "output_type": "stream",
     "text": [
      "Predicted Relevance Scores: [0.46064225477676984, 0.4237123803319739, 0.3904775018407861, 0.379996859708429, 0.379996859708429]\n"
     ]
    }
   ],
   "source": [
    "# Puntuaciónn real usando calificaciones\n",
    "# Obtener los IDs de los productos recomendados\n",
    "recommended_product_ids = content_based_recommendations['product_id'].tolist()\n",
    "# Obtener las calificaciones de los productos recomendados\n",
    "ratings_for_recommended_items = main_feature4m_df[main_feature4m_df['product_id'].isin(recommended_product_ids)]\n",
    "\n",
    "# Definir el umbral para considerar un producto como relevante (en este caso, calificación >= 4)\n",
    "threshold = 4\n",
    "\n",
    "# Asignar etiquetas de relevancia binaria basadas en el umbral\n",
    "ground_truth = [1 if rating >= threshold else 0 for rating in ratings_for_recommended_items['rating']]\n",
    "\n",
    "# Obtener las puntuaciones de similitud predichas\n",
    "predicted_scores = [tup[1] for tup in p_sim_score]\n",
    "print(\"Predicted Relevance Scores:\", predicted_scores)"
   ]
  },
  {
   "cell_type": "code",
   "execution_count": 142,
   "id": "819ab5bc-0e53-4d03-8c2d-42c0b607dc08",
   "metadata": {},
   "outputs": [],
   "source": [
    "import pandas as pd\n",
    "# Aquí es donde se calcularían las métricas de evaluación (Precision, Recall, F1 Score)\n",
    "# Suponiendo que tenemos 'ground_truth' y 'predicted_scores' como listas binarias de etiquetas verdaderas y predicciones\n",
    "from sklearn.metrics import precision_score, recall_score, f1_score\n",
    "from sklearn.metrics import mean_squared_error, mean_absolute_error"
   ]
  },
  {
   "cell_type": "code",
   "execution_count": 143,
   "id": "b963e4b7",
   "metadata": {},
   "outputs": [
    {
     "name": "stdout",
     "output_type": "stream",
     "text": [
      "RMSE: 1.05\n",
      "MAE: 1.03\n"
     ]
    }
   ],
   "source": [
    "# Obtener las calificaciones reales (ground_truth) y las predicciones de las calificaciones\n",
    "# Aquí asumimos que ground_truth contiene las calificaciones reales y predicted_scores las predicciones\n",
    "\n",
    "# Mapear las puntuaciones de similitud a calificaciones predichas en una escala de 1 a 5\n",
    "# Puedes ajustar la escala según tus necesidades\n",
    "predicted_ratings = np.array(predicted_scores) * 5\n",
    "\n",
    "# Calcular RMSE\n",
    "rmse = np.sqrt(mean_squared_error(ground_truth, predicted_ratings))\n",
    "\n",
    "# Calcular MAE\n",
    "mae = mean_absolute_error(ground_truth, predicted_ratings)\n",
    "\n",
    "print(f'RMSE: {rmse:.2f}')\n",
    "print(f'MAE: {mae:.2f}')"
   ]
  },
  {
   "cell_type": "code",
   "execution_count": 144,
   "id": "95547949-0ba7-4bf4-befa-01770b4a0777",
   "metadata": {},
   "outputs": [],
   "source": [
    "# Generar etiquetas predichas basadas en los puntajes de similitud\n",
    "predicted_labels = [1 if score >= np.mean(predicted_scores) else 0 for score in predicted_scores]"
   ]
  },
  {
   "cell_type": "code",
   "execution_count": 145,
   "id": "ef74b76b-3c2f-4510-8479-34f3e01e69de",
   "metadata": {},
   "outputs": [
    {
     "name": "stdout",
     "output_type": "stream",
     "text": [
      "Precision: 1.00\n",
      "Recall: 0.40\n",
      "F1 Score: 0.57\n"
     ]
    },
    {
     "name": "stderr",
     "output_type": "stream",
     "text": [
      "C:\\Users\\Javier\\anaconda3\\lib\\site-packages\\sklearn\\metrics\\_classification.py:1318: UndefinedMetricWarning:\n",
      "\n",
      "Recall is ill-defined and being set to 0.0 in labels with no true samples. Use `zero_division` parameter to control this behavior.\n",
      "\n"
     ]
    }
   ],
   "source": [
    "# Calcular las métricas\n",
    "precision = precision_score(ground_truth, predicted_labels, average='weighted')\n",
    "recall = recall_score(ground_truth, predicted_labels, average='weighted')\n",
    "f1 = f1_score(ground_truth, predicted_labels, average='weighted')\n",
    "\n",
    "print(f'Precision: {precision:.2f}')\n",
    "print(f'Recall: {recall:.2f}')\n",
    "print(f'F1 Score: {f1:.2f}')"
   ]
  },
  {
   "cell_type": "markdown",
   "id": "37adb206-d95f-43ff-8374-807b110e7221",
   "metadata": {},
   "source": [
    "2. **FILTRADO COLABORATIVO**"
   ]
  },
  {
   "cell_type": "code",
   "execution_count": 146,
   "id": "55197338-7b6d-4a74-865f-014da6e5afe3",
   "metadata": {},
   "outputs": [],
   "source": [
    "from surprise import Dataset, Reader, accuracy\n",
    "from surprise.model_selection import train_test_split\n",
    "from surprise import KNNBasic"
   ]
  },
  {
   "cell_type": "code",
   "execution_count": 147,
   "id": "62a43e2b-4df7-486c-88ef-fb7cc583de4b",
   "metadata": {},
   "outputs": [],
   "source": [
    "reader = Reader(rating_scale=(1, 5))"
   ]
  },
  {
   "cell_type": "code",
   "execution_count": 148,
   "id": "adf62fd2-4660-43a0-9ce6-90b2ce3299e4",
   "metadata": {},
   "outputs": [
    {
     "name": "stdout",
     "output_type": "stream",
     "text": [
      "user_id        object\n",
      "product_id     object\n",
      "rating        float64\n",
      "dtype: object\n"
     ]
    }
   ],
   "source": [
    "main_feature4m_df2 = main_feature4m_df[['user_id', 'product_id', 'rating']].dropna()\n",
    "print(main_feature4m_df2.dtypes)"
   ]
  },
  {
   "cell_type": "code",
   "execution_count": 149,
   "id": "22a2e768",
   "metadata": {},
   "outputs": [],
   "source": [
    "data = Dataset.load_from_df(main_feature4m_df2[['user_id', 'product_id', 'rating']], reader)"
   ]
  },
  {
   "cell_type": "code",
   "execution_count": 150,
   "id": "a10b6952",
   "metadata": {},
   "outputs": [],
   "source": [
    "# Dividir el dataset entre conjunto de entrenamiento y conjunto de test\n",
    "trainset, testset = train_test_split(data, test_size=0.2, random_state=42)"
   ]
  },
  {
   "cell_type": "code",
   "execution_count": 151,
   "id": "21b64665",
   "metadata": {},
   "outputs": [
    {
     "name": "stdout",
     "output_type": "stream",
     "text": [
      "Computing the cosine similarity matrix...\n",
      "Done computing similarity matrix.\n"
     ]
    },
    {
     "data": {
      "text/plain": [
       "<surprise.prediction_algorithms.knns.KNNBasic at 0x19b3159c0a0>"
      ]
     },
     "execution_count": 151,
     "metadata": {},
     "output_type": "execute_result"
    }
   ],
   "source": [
    "# Definir las opciones de similitud para el modelo de filtrado colaborativo basado en usuarios\n",
    "sim_options = {'name': 'cosine', 'user_based': True} \n",
    "# 'name': 'cosine' indica que se usará similitud coseno entre usuarios\n",
    "# 'user_based': True indica que el modelo es basado en usuarios, no en ítems\n",
    "\n",
    "# Inicializar el modelo de filtrado colaborativo basado en usuarios con KNNBasic\n",
    "model = KNNBasic(sim_options=sim_options)\n",
    "# KNNBasic es un algoritmo de vecinos más cercanos (K-Nearest Neighbors)\n",
    "model.fit(trainset)\n",
    "# Entrenar el modelo con el conjunto de entrenamiento"
   ]
  },
  {
   "cell_type": "code",
   "execution_count": 152,
   "id": "3532d246",
   "metadata": {},
   "outputs": [],
   "source": [
    "# Hacer predicciones utilizando el modelo entrenado\n",
    "predictions = model.test(testset)"
   ]
  },
  {
   "cell_type": "code",
   "execution_count": 153,
   "id": "796d6e6a",
   "metadata": {},
   "outputs": [
    {
     "name": "stdout",
     "output_type": "stream",
     "text": [
      "RMSE: 0.2636\n",
      "MAE:  0.1829\n"
     ]
    },
    {
     "data": {
      "text/plain": [
       "0.18286800363193648"
      ]
     },
     "execution_count": 153,
     "metadata": {},
     "output_type": "execute_result"
    }
   ],
   "source": [
    "# Evaluar el modelo utilizando RMSE y MAE\n",
    "accuracy.rmse(predictions)\n",
    "accuracy.mae(predictions)"
   ]
  },
  {
   "cell_type": "code",
   "execution_count": 154,
   "id": "344cbaaa",
   "metadata": {},
   "outputs": [
    {
     "name": "stdout",
     "output_type": "stream",
     "text": [
      "Precision: 0.6667\n",
      "Recall: 0.6667\n",
      "F1-score: 0.6667\n"
     ]
    }
   ],
   "source": [
    "from sklearn.metrics import precision_score, recall_score, f1_score\n",
    "\n",
    "# Supongamos que tienes etiquetas verdaderas y predicciones para tus datos\n",
    "# Las etiquetas verdaderas serían los elementos que el usuario realmente encontró relevantes\n",
    "# Las predicciones serían los elementos recomendados por tu modelo\n",
    "\n",
    "# Ejemplo de etiquetas verdaderas y predicciones (deberías ajustar esto según tus datos)\n",
    "y_true = [1, 0, 1, 1, 0]  # 1 para relevante, 0 para no relevante\n",
    "y_pred = [1, 1, 0, 1, 0]  # 1 para recomendado, 0 para no recomendado\n",
    "\n",
    "# Calcular precisión, recall y F1-score\n",
    "precision = precision_score(y_true, y_pred)\n",
    "recall = recall_score(y_true, y_pred)\n",
    "f1 = f1_score(y_true, y_pred)\n",
    "\n",
    "print(f'Precision: {precision:.4f}')\n",
    "print(f'Recall: {recall:.4f}')\n",
    "print(f'F1-score: {f1:.4f}')\n"
   ]
  },
  {
   "cell_type": "markdown",
   "id": "8475a454",
   "metadata": {},
   "source": [
    "3. **FILTRADO HIBRIDO**"
   ]
  },
  {
   "cell_type": "code",
   "execution_count": 193,
   "id": "c3a35759",
   "metadata": {},
   "outputs": [
    {
     "data": {
      "text/html": [
       "<div>\n",
       "<style scoped>\n",
       "    .dataframe tbody tr th:only-of-type {\n",
       "        vertical-align: middle;\n",
       "    }\n",
       "\n",
       "    .dataframe tbody tr th {\n",
       "        vertical-align: top;\n",
       "    }\n",
       "\n",
       "    .dataframe thead th {\n",
       "        text-align: right;\n",
       "    }\n",
       "</style>\n",
       "<table border=\"1\" class=\"dataframe\">\n",
       "  <thead>\n",
       "    <tr style=\"text-align: right;\">\n",
       "      <th></th>\n",
       "      <th>user_id</th>\n",
       "      <th>product_id</th>\n",
       "      <th>product_name</th>\n",
       "      <th>about_product</th>\n",
       "      <th>user_name</th>\n",
       "      <th>category</th>\n",
       "      <th>rating</th>\n",
       "      <th>rating_count</th>\n",
       "      <th>discounted_price</th>\n",
       "      <th>actual_price</th>\n",
       "      <th>review_id</th>\n",
       "      <th>review_title</th>\n",
       "      <th>review_content</th>\n",
       "    </tr>\n",
       "  </thead>\n",
       "  <tbody>\n",
       "    <tr>\n",
       "      <th>0</th>\n",
       "      <td>AG3D6O4STAQKAY2UVGEUV46KN35Q</td>\n",
       "      <td>B07JW9H4J1</td>\n",
       "      <td>Wayona Nylon Braided USB to Lightning Fast Cha...</td>\n",
       "      <td>High Compatibility : Compatible With iPhone 12...</td>\n",
       "      <td>Manav</td>\n",
       "      <td>Computers&amp;Accessories|Accessories&amp;Peripherals|...</td>\n",
       "      <td>4.2</td>\n",
       "      <td>24269.000</td>\n",
       "      <td>399.000</td>\n",
       "      <td>1099.000</td>\n",
       "      <td>R3HXWT0LRP0NMF</td>\n",
       "      <td>Satisfied</td>\n",
       "      <td>Looks durable Charging is fine tooNo complains...</td>\n",
       "    </tr>\n",
       "    <tr>\n",
       "      <th>1</th>\n",
       "      <td>AECPFYFQVRUWC3KGNLJIOREFP5LQ</td>\n",
       "      <td>B098NS6PVG</td>\n",
       "      <td>Ambrane Unbreakable 60W / 3A Fast Charging 1.5...</td>\n",
       "      <td>Compatible with all Type C enabled devices, be...</td>\n",
       "      <td>ArdKn</td>\n",
       "      <td>Computers&amp;Accessories|Accessories&amp;Peripherals|...</td>\n",
       "      <td>4.0</td>\n",
       "      <td>43994.000</td>\n",
       "      <td>199.000</td>\n",
       "      <td>349.000</td>\n",
       "      <td>RGIQEG07R9HS2</td>\n",
       "      <td>A Good Braided Cable for Your Type C Device</td>\n",
       "      <td>I ordered this cable to connect my phone to An...</td>\n",
       "    </tr>\n",
       "    <tr>\n",
       "      <th>2</th>\n",
       "      <td>AGU3BBQ2V2DDAMOAKGFAWDDQ6QHA</td>\n",
       "      <td>B096MSW6CT</td>\n",
       "      <td>Sounce Fast Phone Charging Cable &amp; Data Sync U...</td>\n",
       "      <td>【 Fast Charger&amp; Data Sync】-With built-in safet...</td>\n",
       "      <td>Kunal</td>\n",
       "      <td>Computers&amp;Accessories|Accessories&amp;Peripherals|...</td>\n",
       "      <td>3.9</td>\n",
       "      <td>7928.000</td>\n",
       "      <td>199.000</td>\n",
       "      <td>1899.000</td>\n",
       "      <td>R3J3EQQ9TZI5ZJ</td>\n",
       "      <td>Good speed for earlier versions</td>\n",
       "      <td>Not quite durable and sturdy,https://m.media-a...</td>\n",
       "    </tr>\n",
       "    <tr>\n",
       "      <th>3</th>\n",
       "      <td>AEWAZDZZJLQUYVOVGBEUKSLXHQ5A</td>\n",
       "      <td>B08HDJ86NZ</td>\n",
       "      <td>boAt Deuce USB 300 2 in 1 Type-C &amp; Micro USB S...</td>\n",
       "      <td>The boAt Deuce USB 300 2 in 1 cable is compati...</td>\n",
       "      <td>Omkar dhale</td>\n",
       "      <td>Computers&amp;Accessories|Accessories&amp;Peripherals|...</td>\n",
       "      <td>4.2</td>\n",
       "      <td>94363.000</td>\n",
       "      <td>329.000</td>\n",
       "      <td>699.000</td>\n",
       "      <td>R3EEUZKKK9J36I</td>\n",
       "      <td>Good product</td>\n",
       "      <td>Good product,long wire,Charges good,Nice,I bou...</td>\n",
       "    </tr>\n",
       "    <tr>\n",
       "      <th>4</th>\n",
       "      <td>AE3Q6KSUK5P75D5HFYHCRAOLODSA</td>\n",
       "      <td>B08CF3B7N1</td>\n",
       "      <td>Portronics Konnect L 1.2M Fast Charging 3A 8 P...</td>\n",
       "      <td>[CHARGE &amp; SYNC FUNCTION]- This cable comes wit...</td>\n",
       "      <td>rahuls6099</td>\n",
       "      <td>Computers&amp;Accessories|Accessories&amp;Peripherals|...</td>\n",
       "      <td>4.2</td>\n",
       "      <td>16905.000</td>\n",
       "      <td>154.000</td>\n",
       "      <td>399.000</td>\n",
       "      <td>R1BP4L2HH9TFUP</td>\n",
       "      <td>As good as original</td>\n",
       "      <td>Bought this instead of original apple, does th...</td>\n",
       "    </tr>\n",
       "  </tbody>\n",
       "</table>\n",
       "</div>"
      ],
      "text/plain": [
       "                        user_id  product_id  \\\n",
       "0  AG3D6O4STAQKAY2UVGEUV46KN35Q  B07JW9H4J1   \n",
       "1  AECPFYFQVRUWC3KGNLJIOREFP5LQ  B098NS6PVG   \n",
       "2  AGU3BBQ2V2DDAMOAKGFAWDDQ6QHA  B096MSW6CT   \n",
       "3  AEWAZDZZJLQUYVOVGBEUKSLXHQ5A  B08HDJ86NZ   \n",
       "4  AE3Q6KSUK5P75D5HFYHCRAOLODSA  B08CF3B7N1   \n",
       "\n",
       "                                        product_name  \\\n",
       "0  Wayona Nylon Braided USB to Lightning Fast Cha...   \n",
       "1  Ambrane Unbreakable 60W / 3A Fast Charging 1.5...   \n",
       "2  Sounce Fast Phone Charging Cable & Data Sync U...   \n",
       "3  boAt Deuce USB 300 2 in 1 Type-C & Micro USB S...   \n",
       "4  Portronics Konnect L 1.2M Fast Charging 3A 8 P...   \n",
       "\n",
       "                                       about_product    user_name  \\\n",
       "0  High Compatibility : Compatible With iPhone 12...        Manav   \n",
       "1  Compatible with all Type C enabled devices, be...        ArdKn   \n",
       "2  【 Fast Charger& Data Sync】-With built-in safet...        Kunal   \n",
       "3  The boAt Deuce USB 300 2 in 1 cable is compati...  Omkar dhale   \n",
       "4  [CHARGE & SYNC FUNCTION]- This cable comes wit...   rahuls6099   \n",
       "\n",
       "                                            category rating  rating_count  \\\n",
       "0  Computers&Accessories|Accessories&Peripherals|...    4.2     24269.000   \n",
       "1  Computers&Accessories|Accessories&Peripherals|...    4.0     43994.000   \n",
       "2  Computers&Accessories|Accessories&Peripherals|...    3.9      7928.000   \n",
       "3  Computers&Accessories|Accessories&Peripherals|...    4.2     94363.000   \n",
       "4  Computers&Accessories|Accessories&Peripherals|...    4.2     16905.000   \n",
       "\n",
       "   discounted_price  actual_price       review_id  \\\n",
       "0           399.000      1099.000  R3HXWT0LRP0NMF   \n",
       "1           199.000       349.000   RGIQEG07R9HS2   \n",
       "2           199.000      1899.000  R3J3EQQ9TZI5ZJ   \n",
       "3           329.000       699.000  R3EEUZKKK9J36I   \n",
       "4           154.000       399.000  R1BP4L2HH9TFUP   \n",
       "\n",
       "                                  review_title  \\\n",
       "0                                    Satisfied   \n",
       "1  A Good Braided Cable for Your Type C Device   \n",
       "2              Good speed for earlier versions   \n",
       "3                                 Good product   \n",
       "4                          As good as original   \n",
       "\n",
       "                                      review_content  \n",
       "0  Looks durable Charging is fine tooNo complains...  \n",
       "1  I ordered this cable to connect my phone to An...  \n",
       "2  Not quite durable and sturdy,https://m.media-a...  \n",
       "3  Good product,long wire,Charges good,Nice,I bou...  \n",
       "4  Bought this instead of original apple, does th...  "
      ]
     },
     "execution_count": 193,
     "metadata": {},
     "output_type": "execute_result"
    }
   ],
   "source": [
    "main_feature4m_df3 = df[['user_id', 'product_id', 'product_name', 'about_product','user_name', 'category', 'rating', \n",
    "                        'rating_count', 'discounted_price', 'actual_price','review_id', 'review_title', 'review_content']]\n",
    "main_feature4m_df3.head()"
   ]
  },
  {
   "cell_type": "code",
   "execution_count": 194,
   "id": "ddac125f",
   "metadata": {},
   "outputs": [
    {
     "name": "stderr",
     "output_type": "stream",
     "text": [
      "C:\\Users\\Javier\\AppData\\Local\\Temp\\ipykernel_12304\\2980164941.py:2: SettingWithCopyWarning:\n",
      "\n",
      "\n",
      "A value is trying to be set on a copy of a slice from a DataFrame.\n",
      "Try using .loc[row_indexer,col_indexer] = value instead\n",
      "\n",
      "See the caveats in the documentation: https://pandas.pydata.org/pandas-docs/stable/user_guide/indexing.html#returning-a-view-versus-a-copy\n",
      "\n",
      "C:\\Users\\Javier\\AppData\\Local\\Temp\\ipykernel_12304\\2980164941.py:4: SettingWithCopyWarning:\n",
      "\n",
      "\n",
      "A value is trying to be set on a copy of a slice from a DataFrame.\n",
      "Try using .loc[row_indexer,col_indexer] = value instead\n",
      "\n",
      "See the caveats in the documentation: https://pandas.pydata.org/pandas-docs/stable/user_guide/indexing.html#returning-a-view-versus-a-copy\n",
      "\n"
     ]
    }
   ],
   "source": [
    "# Crear una nueva columna 'product_details' que combine el nombre del producto, la descripción y el contenido de las reseñas\n",
    "main_feature4m_df3['product_details'] = main_feature4m_df3['product_name'] + ' ' + main_feature4m_df3['about_product'] + ' ' + main_feature4m_df3['review_content']\n",
    "\n",
    "main_feature4m_df3['product_details'] = main_feature4m_df3['product_details'].fillna('')\n",
    "\n",
    "main_feature4m_df3 = main_feature4m_df3[main_feature4m_df3['rating'] != '|']"
   ]
  },
  {
   "cell_type": "code",
   "execution_count": 195,
   "id": "02b1a390",
   "metadata": {},
   "outputs": [],
   "source": [
    "main_feature4m_df3['user_id'] = main_feature4m_df3['user_id'].astype(str)\n",
    "main_feature4m_df3['product_id'] = main_feature4m_df3['product_id'].astype(str)\n",
    "main_feature4m_df3['rating'] = main_feature4m_df3['rating'].astype(float)"
   ]
  },
  {
   "cell_type": "code",
   "execution_count": 196,
   "id": "65055759",
   "metadata": {},
   "outputs": [],
   "source": [
    "# Crear la matriz TF-IDF para calcular la similitud del coseno entre productos aplicando el filtro basado en contenido\n",
    "tfidf_vec = TfidfVectorizer(stop_words='english', max_df=0.95, min_df=2, ngram_range=(1, 1))\n",
    "tfidf_matrix = tfidf_vec.fit_transform(main_feature4m_df3['product_details'])"
   ]
  },
  {
   "cell_type": "code",
   "execution_count": 197,
   "id": "4c856645",
   "metadata": {},
   "outputs": [],
   "source": [
    "# Calcular la similitud del coseno\n",
    "cosine_sim = linear_kernel(tfidf_matrix, tfidf_matrix)"
   ]
  },
  {
   "cell_type": "code",
   "execution_count": 198,
   "id": "f57605c8",
   "metadata": {},
   "outputs": [],
   "source": [
    "# Preparar los datos para Surprise\n",
    "reader = Reader(rating_scale=(1, 5))\n",
    "data_surprise = Dataset.load_from_df(main_feature4m_df3[['user_id', 'product_id', 'rating']], reader)"
   ]
  },
  {
   "cell_type": "code",
   "execution_count": 199,
   "id": "422eee14",
   "metadata": {},
   "outputs": [
    {
     "name": "stdout",
     "output_type": "stream",
     "text": [
      "Evaluating RMSE, MAE of algorithm SVD on 5 split(s).\n",
      "\n",
      "                  Fold 1  Fold 2  Fold 3  Fold 4  Fold 5  Mean    Std     \n",
      "RMSE (testset)    0.2656  0.2561  0.2930  0.3056  0.2860  0.2813  0.0181  \n",
      "MAE (testset)     0.1984  0.1870  0.1980  0.2220  0.2041  0.2019  0.0115  \n",
      "Fit time          0.01    0.01    0.01    0.01    0.01    0.01    0.00    \n",
      "Test time         0.00    0.00    0.00    0.00    0.00    0.00    0.00    \n"
     ]
    },
    {
     "data": {
      "text/plain": [
       "{'test_rmse': array([0.26557051, 0.25614335, 0.29303042, 0.3056092 , 0.28604744]),\n",
       " 'test_mae': array([0.19841304, 0.18700565, 0.1980375 , 0.22204327, 0.20412808]),\n",
       " 'fit_time': (0.009001493453979492,\n",
       "  0.01000213623046875,\n",
       "  0.009002208709716797,\n",
       "  0.010002374649047852,\n",
       "  0.01000213623046875),\n",
       " 'test_time': (0.0010006427764892578,\n",
       "  0.0010004043579101562,\n",
       "  0.0010001659393310547,\n",
       "  0.0010001659393310547,\n",
       "  0.0)}"
      ]
     },
     "execution_count": 199,
     "metadata": {},
     "output_type": "execute_result"
    }
   ],
   "source": [
    "from surprise import Dataset, Reader, SVD\n",
    "from surprise.model_selection import cross_validate\n",
    "# Entrenar el modelo SVD\n",
    "algo = SVD()\n",
    "cross_validate(algo, data_surprise, measures=['RMSE', 'MAE'], cv=5, verbose=True)"
   ]
  },
  {
   "cell_type": "code",
   "execution_count": 200,
   "id": "8795edc3",
   "metadata": {},
   "outputs": [],
   "source": [
    "# Preparar los datos para Surprise\n",
    "reader = Reader(rating_scale=(1, 5))\n",
    "data_surprise = Dataset.load_from_df(main_feature4m_df3[['user_id', 'product_id', 'rating']], reader)\n"
   ]
  },
  {
   "cell_type": "code",
   "execution_count": 204,
   "id": "1b182d51",
   "metadata": {},
   "outputs": [
    {
     "name": "stdout",
     "output_type": "stream",
     "text": [
      "Evaluating RMSE, MAE of algorithm SVD on 5 split(s).\n",
      "\n",
      "                  Fold 1  Fold 2  Fold 3  Fold 4  Fold 5  Mean    Std     \n",
      "RMSE (testset)    0.2807  0.2358  0.2967  0.2920  0.3004  0.2811  0.0236  \n",
      "MAE (testset)     0.2070  0.1816  0.2044  0.2134  0.2065  0.2026  0.0109  \n",
      "Fit time          0.01    0.01    0.01    0.01    0.01    0.01    0.00    \n",
      "Test time         0.00    0.00    0.00    0.00    0.00    0.00    0.00    \n"
     ]
    },
    {
     "data": {
      "text/plain": [
       "<surprise.prediction_algorithms.matrix_factorization.SVD at 0x19b314d0f40>"
      ]
     },
     "execution_count": 204,
     "metadata": {},
     "output_type": "execute_result"
    }
   ],
   "source": [
    "# Entrenar el modelo SVD\n",
    "algo = SVD()\n",
    "cross_validate(algo, data_surprise, measures=['RMSE', 'MAE'], cv=5, verbose=True)\n",
    "\n",
    "trainset = data_surprise.build_full_trainset()\n",
    "algo.fit(trainset)"
   ]
  },
  {
   "cell_type": "code",
   "execution_count": 205,
   "id": "9d4eeed7",
   "metadata": {},
   "outputs": [
    {
     "name": "stdout",
     "output_type": "stream",
     "text": [
      "                          user_id  product_id  \\\n",
      "50   AHDFR3PDKEBV72HXRL3RJJLS3YYA  B07P681N66   \n",
      "56   AGV3IEFANZCKECFGUM42MRH5FNOA  B0088TKTY2   \n",
      "170  AGYAPOCHJTBVSKV3GSONJ7VXL3PA  B07M69276N   \n",
      "303  AFWESPH2F54JGI3PJYU2NINBVCAQ  B08G43CCLC   \n",
      "894  AHDFR3PDKEBV72HXRL3RJJLS3YYA  B07P681N66   \n",
      "\n",
      "                                          product_name  \\\n",
      "50   TP-Link AC600 600 Mbps WiFi Wireless Network U...   \n",
      "56   TP-LINK WiFi Dongle 300 Mbps Mini Wireless Net...   \n",
      "170  TP-Link AC1300 USB WiFi Adapter (Archer T3U) -...   \n",
      "303  NK STAR 950 Mbps USB WiFi Adapter Wireless Net...   \n",
      "894  TP-Link AC600 600 Mbps WiFi Wireless Network U...   \n",
      "\n",
      "                                         about_product       user_name  \\\n",
      "50   High-Speed Wi-Fi —— 256QAM support increases t...       Anonymous   \n",
      "56   300 Mbps Wi-Fi —— 300Mbps wireless speed ideal...     Azhar JuMan   \n",
      "170  Ultimate Wi-Fi Speed —— AC1300 (400 Mpbs on 2....  Shweta Bairagi   \n",
      "303  [NOTE - >>Not Support to DVR and HDTV]..[CONNE...      Shivakumar   \n",
      "894  High-Speed Wi-Fi —— 256QAM support increases t...       Anonymous   \n",
      "\n",
      "                                              category  rating  rating_count  \\\n",
      "50   Computers&Accessories|NetworkingDevices|Networ...   4.400     24780.000   \n",
      "56   Computers&Accessories|NetworkingDevices|Networ...   4.200    179691.000   \n",
      "170  Computers&Accessories|NetworkingDevices|Networ...   4.400     23169.000   \n",
      "303  Computers&Accessories|NetworkingDevices|Networ...   4.200       163.000   \n",
      "894  Computers&Accessories|NetworkingDevices|Networ...   4.400     24780.000   \n",
      "\n",
      "     discounted_price  actual_price       review_id  \\\n",
      "50           1199.000      2199.000  R2GUL8IL005EGF   \n",
      "56            649.000      1399.000  R1LW6NWSVTVZ2H   \n",
      "170          1399.000      2499.000   R3WPIQCSIWIMK   \n",
      "303           218.000       999.000  R34OST6S1F8457   \n",
      "894          1199.000      2199.000  R2GUL8IL005EGF   \n",
      "\n",
      "                                          review_title  \\\n",
      "50   Works flawlessly on Ubuntu 22.04 (if installed...   \n",
      "56   Works on linux for me. Get the model with ante...   \n",
      "170  Good device and makes your laptop to utilize m...   \n",
      "303                                          Thank you   \n",
      "894  Works flawlessly on Ubuntu 22.04 (if installed...   \n",
      "\n",
      "                                        review_content  \\\n",
      "50   I am using this on an old Mac Mini, since the ...   \n",
      "56   I use this to connect an old PC to internet. I...   \n",
      "170  Good device and makes your laptop to utilize m...   \n",
      "303  Valu money good quality products,Checked it, w...   \n",
      "894  I am using this on an old Mac Mini, since the ...   \n",
      "\n",
      "                                       product_details  \n",
      "50   TP-Link AC600 600 Mbps WiFi Wireless Network U...  \n",
      "56   TP-LINK WiFi Dongle 300 Mbps Mini Wireless Net...  \n",
      "170  TP-Link AC1300 USB WiFi Adapter (Archer T3U) -...  \n",
      "303  NK STAR 950 Mbps USB WiFi Adapter Wireless Net...  \n",
      "894  TP-Link AC600 600 Mbps WiFi Wireless Network U...  \n"
     ]
    }
   ],
   "source": [
    "def hybrid_recommendations(user_id, product_id, data, cosine_sim, algo, n=5):\n",
    "    # Filtrado basado en contenido\n",
    "    idx = data[data['product_id'] == product_id].index[0]\n",
    "    sim_scores = list(enumerate(cosine_sim[idx]))\n",
    "    sim_scores = sorted(sim_scores, key=lambda x: x[1], reverse=True)\n",
    "    sim_scores = sim_scores[1:n+1]\n",
    "    product_indices = [i[0] for i in sim_scores]\n",
    "    \n",
    "    # Obtener recomendaciones basadas en contenido\n",
    "    content_based_recommendations = data.iloc[product_indices]\n",
    "\n",
    "    # Filtrado colaborativo\n",
    "    collab_recommendations = []\n",
    "    for product in content_based_recommendations['product_id']:\n",
    "        pred = algo.predict(user_id, product)\n",
    "        collab_recommendations.append((product, pred.est))\n",
    "\n",
    "    # Ordenar por las puntuaciones de predicción colaborativa\n",
    "    collab_recommendations = sorted(collab_recommendations, key=lambda x: x[1], reverse=True)\n",
    "\n",
    "    # Obtener los IDs de los productos recomendados\n",
    "    hybrid_recommendations = [rec[0] for rec in collab_recommendations[:n]]\n",
    "\n",
    "    return data[data['product_id'].isin(hybrid_recommendations)]\n",
    "\n",
    "# Ejemplo de uso\n",
    "user_id = 'A3LDPF5FMB782Z'  # Ejemplo de user_id\n",
    "product_id = 'B09LHXNZLR'  # Ejemplo de product_id\n",
    "recommended_products = hybrid_recommendations(user_id, product_id, main_feature4m_df3, cosine_sim, algo, n=5)\n",
    "print(recommended_products)\n"
   ]
  },
  {
   "cell_type": "code",
   "execution_count": 206,
   "id": "d9e75b79",
   "metadata": {},
   "outputs": [
    {
     "name": "stdout",
     "output_type": "stream",
     "text": [
      "RMSE: 0.21\n",
      "MAE: 0.20\n",
      "Precision: 1.00\n",
      "Recall: 0.40\n",
      "F1 Score: 0.57\n"
     ]
    },
    {
     "name": "stderr",
     "output_type": "stream",
     "text": [
      "C:\\Users\\Javier\\anaconda3\\lib\\site-packages\\sklearn\\metrics\\_classification.py:1318: UndefinedMetricWarning:\n",
      "\n",
      "Recall is ill-defined and being set to 0.0 in labels with no true samples. Use `zero_division` parameter to control this behavior.\n",
      "\n"
     ]
    }
   ],
   "source": [
    "from sklearn.metrics import precision_score, recall_score, f1_score\n",
    "\n",
    "def evaluate_hybrid_recommendations(user_id, product_id, data, cosine_sim, algo):\n",
    "    hybrid_recs = hybrid_recommendations(user_id, product_id, data, cosine_sim, algo)\n",
    "    real_ratings = data[data['product_id'].isin(hybrid_recs['product_id'])]['rating']\n",
    "    predicted_ratings = [algo.predict(user_id, pid).est for pid in hybrid_recs['product_id']]\n",
    "    \n",
    "    # Calcular RMSE y MAE\n",
    "    rmse = np.sqrt(mean_squared_error(real_ratings, predicted_ratings))\n",
    "    mae = mean_absolute_error(real_ratings, predicted_ratings)\n",
    "    \n",
    "    # Definir umbral de relevancia\n",
    "    threshold = 4\n",
    "    \n",
    "    # Asignar etiquetas de relevancia binaria\n",
    "    ground_truth = [1 if rating >= threshold else 0 for rating in real_ratings]\n",
    "    \n",
    "    # Generar etiquetas predichas basadas en los puntajes de predicción\n",
    "    predicted_labels = [1 if score >= np.mean(predicted_ratings) else 0 for score in predicted_ratings]\n",
    "    \n",
    "    # Calcular las métricas\n",
    "    precision = precision_score(ground_truth, predicted_labels, average='weighted')\n",
    "    recall = recall_score(ground_truth, predicted_labels, average='weighted')\n",
    "    f1 = f1_score(ground_truth, predicted_labels, average='weighted')\n",
    "    \n",
    "    return rmse, mae, precision, recall, f1\n",
    "\n",
    "# Ejemplo de evaluación\n",
    "rmse, mae, precision, recall, f1 = evaluate_hybrid_recommendations(user_id, product_id, main_feature4m_df3, cosine_sim, algo)\n",
    "print(f'RMSE: {rmse:.2f}')\n",
    "print(f'MAE: {mae:.2f}')\n",
    "print(f'Precision: {precision:.2f}')\n",
    "print(f'Recall: {recall:.2f}')\n",
    "print(f'F1 Score: {f1:.2f}')\n"
   ]
  },
  {
   "cell_type": "code",
   "execution_count": null,
   "id": "877db20b",
   "metadata": {},
   "outputs": [],
   "source": []
  },
  {
   "cell_type": "code",
   "execution_count": null,
   "id": "475d61c0",
   "metadata": {},
   "outputs": [],
   "source": []
  },
  {
   "cell_type": "code",
   "execution_count": null,
   "id": "3b4b4a8b",
   "metadata": {},
   "outputs": [],
   "source": []
  }
 ],
 "metadata": {
  "kernelspec": {
   "display_name": "Python 3 (ipykernel)",
   "language": "python",
   "name": "python3"
  },
  "language_info": {
   "codemirror_mode": {
    "name": "ipython",
    "version": 3
   },
   "file_extension": ".py",
   "mimetype": "text/x-python",
   "name": "python",
   "nbconvert_exporter": "python",
   "pygments_lexer": "ipython3",
   "version": "3.9.13"
  }
 },
 "nbformat": 4,
 "nbformat_minor": 5
}
